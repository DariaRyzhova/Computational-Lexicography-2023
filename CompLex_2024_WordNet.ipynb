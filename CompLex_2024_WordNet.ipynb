{
  "nbformat": 4,
  "nbformat_minor": 0,
  "metadata": {
    "kernelspec": {
      "display_name": "Python 3",
      "language": "python",
      "name": "python3"
    },
    "language_info": {
      "codemirror_mode": {
        "name": "ipython",
        "version": 3
      },
      "file_extension": ".py",
      "mimetype": "text/x-python",
      "name": "python",
      "nbconvert_exporter": "python",
      "pygments_lexer": "ipython3",
      "version": "3.6.0"
    },
    "colab": {
      "provenance": []
    }
  },
  "cells": [
    {
      "cell_type": "markdown",
      "metadata": {
        "id": "5LqgpsY6RLG0"
      },
      "source": [
        "# WordNet"
      ]
    },
    {
      "cell_type": "markdown",
      "metadata": {
        "id": "Wp9YjmBXRLHC"
      },
      "source": [
        "### Полезные ссылки: <br>\n",
        "Главный сайт проекта: https://wordnet.princeton.edu/ <br>\n",
        "WordNet через nltk: http://www.nltk.org/howto/wordnet.html"
      ]
    },
    {
      "cell_type": "code",
      "metadata": {
        "colab": {
          "base_uri": "https://localhost:8080/"
        },
        "id": "cRRVpRKsRLHE",
        "outputId": "f4e3a298-14b0-4eac-f528-aac9d1d89b9c"
      },
      "source": [
        "import nltk\n",
        "nltk.download('wordnet')"
      ],
      "execution_count": 1,
      "outputs": [
        {
          "output_type": "stream",
          "name": "stderr",
          "text": [
            "[nltk_data] Downloading package wordnet to /root/nltk_data...\n"
          ]
        },
        {
          "output_type": "execute_result",
          "data": {
            "text/plain": [
              "True"
            ]
          },
          "metadata": {},
          "execution_count": 1
        }
      ]
    },
    {
      "cell_type": "code",
      "metadata": {
        "colab": {
          "base_uri": "https://localhost:8080/"
        },
        "id": "_1ipVefjpM6R",
        "outputId": "a031f6be-fcf6-44b9-f3bb-9d12d8c9d76d"
      },
      "source": [
        "nltk.download('omw-1.4')"
      ],
      "execution_count": 2,
      "outputs": [
        {
          "output_type": "stream",
          "name": "stderr",
          "text": [
            "[nltk_data] Downloading package omw-1.4 to /root/nltk_data...\n"
          ]
        },
        {
          "output_type": "execute_result",
          "data": {
            "text/plain": [
              "True"
            ]
          },
          "metadata": {},
          "execution_count": 2
        }
      ]
    },
    {
      "cell_type": "code",
      "metadata": {
        "collapsed": true,
        "id": "NKryi7_2RLHJ"
      },
      "source": [
        "from nltk.corpus import wordnet as wn"
      ],
      "execution_count": 3,
      "outputs": []
    },
    {
      "cell_type": "markdown",
      "metadata": {
        "id": "NMe8RAL0RLHL"
      },
      "source": [
        "Ищем все синсеты, в которых есть подстрока \"fall\":"
      ]
    },
    {
      "cell_type": "code",
      "metadata": {
        "colab": {
          "base_uri": "https://localhost:8080/"
        },
        "id": "GY1KDliRRLHM",
        "outputId": "a38f95f5-dce9-4feb-8c42-ff1c0dab1260"
      },
      "source": [
        "example_synsets = wn.synsets('fall')\n",
        "print (example_synsets)"
      ],
      "execution_count": 4,
      "outputs": [
        {
          "output_type": "stream",
          "name": "stdout",
          "text": [
            "[Synset('fall.n.01'), Synset('spill.n.04'), Synset('fall.n.03'), Synset('descent.n.05'), Synset('fall.n.05'), Synset('fall.n.06'), Synset('fall.n.07'), Synset('capitulation.n.03'), Synset('twilight.n.01'), Synset('fall.n.10'), Synset('drop.n.06'), Synset('drop.n.03'), Synset('fall.v.01'), Synset('descend.v.01'), Synset('fall.v.03'), Synset('fall.v.04'), Synset('precipitate.v.03'), Synset('fall.v.06'), Synset('fall.v.07'), Synset('fall.v.08'), Synset('fall.v.09'), Synset('fall.v.10'), Synset('decrease.v.01'), Synset('fall.v.12'), Synset('fall.v.13'), Synset('fall.v.14'), Synset('fall.v.15'), Synset('fall.v.16'), Synset('fall.v.17'), Synset('fall.v.18'), Synset('accrue.v.02'), Synset('fall.v.20'), Synset('fall.v.21'), Synset('fall.v.22'), Synset('fall.v.23'), Synset('fall.v.24'), Synset('hang.v.05'), Synset('fall.v.26'), Synset('fall.v.27'), Synset('fall.v.28'), Synset('fall.v.29'), Synset('fall.v.30'), Synset('fall.v.31'), Synset('fall.v.32')]\n"
          ]
        }
      ]
    },
    {
      "cell_type": "markdown",
      "metadata": {
        "id": "SNs5PEaRRLHO"
      },
      "source": [
        "Можно уточнить, какие именно части речи нас интересуют. Возможные варианты: NOUN, ADJ, ADV, VERB"
      ]
    },
    {
      "cell_type": "code",
      "metadata": {
        "colab": {
          "base_uri": "https://localhost:8080/"
        },
        "id": "Vb5cuOUXRLHP",
        "outputId": "73d6e362-ea40-4edb-be00-8c37bc78cbfa"
      },
      "source": [
        "verb_synsets = wn.synsets('fall', pos=wn.NOUN)\n",
        "print (verb_synsets)"
      ],
      "execution_count": 5,
      "outputs": [
        {
          "output_type": "stream",
          "name": "stdout",
          "text": [
            "[Synset('fall.n.01'), Synset('spill.n.04'), Synset('fall.n.03'), Synset('descent.n.05'), Synset('fall.n.05'), Synset('fall.n.06'), Synset('fall.n.07'), Synset('capitulation.n.03'), Synset('twilight.n.01'), Synset('fall.n.10'), Synset('drop.n.06'), Synset('drop.n.03')]\n"
          ]
        }
      ]
    },
    {
      "cell_type": "markdown",
      "metadata": {
        "id": "zS6MCN9jRLHR"
      },
      "source": [
        "Доступ ко всем синсетам и ко всем словам:"
      ]
    },
    {
      "cell_type": "code",
      "metadata": {
        "colab": {
          "base_uri": "https://localhost:8080/"
        },
        "id": "fiFvkzrqRLHS",
        "outputId": "c3345545-5e17-4134-aa08-b1f1adafa5f1"
      },
      "source": [
        "print (len(list(wn.all_synsets())))\n",
        "print (len(list(wn.all_synsets('v'))))\n",
        "print (len(list(wn.all_lemma_names('a'))))"
      ],
      "execution_count": null,
      "outputs": [
        {
          "output_type": "stream",
          "name": "stdout",
          "text": [
            "117659\n",
            "13767\n",
            "21479\n"
          ]
        }
      ]
    },
    {
      "cell_type": "markdown",
      "metadata": {
        "id": "GAFSEFUgRLHU"
      },
      "source": [
        "Про синсет мы можем узнать: его имя (ID синсета), определение, ID относящихся к нему лемм, сами леммы; посмотреть примеры (если они есть)"
      ]
    },
    {
      "cell_type": "code",
      "metadata": {
        "colab": {
          "base_uri": "https://localhost:8080/"
        },
        "id": "JvLkfaAFRLHW",
        "outputId": "7cfc7cda-8f9b-444c-f941-efacbda8873b"
      },
      "source": [
        "exemplar = wn.synset('dog.n.01')\n",
        "print (exemplar.name(), exemplar.definition(), exemplar.lemma_names(),\n",
        "       exemplar.examples())"
      ],
      "execution_count": 6,
      "outputs": [
        {
          "output_type": "stream",
          "name": "stdout",
          "text": [
            "dog.n.01 a member of the genus Canis (probably descended from the common wolf) that has been domesticated by man since prehistoric times; occurs in many breeds ['dog', 'domestic_dog', 'Canis_familiaris'] ['the dog barked all night']\n"
          ]
        }
      ]
    },
    {
      "cell_type": "markdown",
      "metadata": {
        "collapsed": true,
        "id": "8AWb8SKARLHX"
      },
      "source": [
        "Отношения между синсетами"
      ]
    },
    {
      "cell_type": "code",
      "metadata": {
        "colab": {
          "base_uri": "https://localhost:8080/"
        },
        "id": "AH4rDpLNRLHY",
        "outputId": "ca651ff3-28ee-4639-bcea-d21113f6ac78"
      },
      "source": [
        "print (exemplar.hyponyms())\n",
        "print (exemplar.hypernyms())\n",
        "print (exemplar.root_hypernyms())\n",
        "print (exemplar.member_holonyms())\n",
        "print (exemplar.member_meronyms())\n",
        "print (exemplar.similar_tos())"
      ],
      "execution_count": 7,
      "outputs": [
        {
          "output_type": "stream",
          "name": "stdout",
          "text": [
            "[Synset('basenji.n.01'), Synset('corgi.n.01'), Synset('cur.n.01'), Synset('dalmatian.n.02'), Synset('great_pyrenees.n.01'), Synset('griffon.n.02'), Synset('hunting_dog.n.01'), Synset('lapdog.n.01'), Synset('leonberg.n.01'), Synset('mexican_hairless.n.01'), Synset('newfoundland.n.01'), Synset('pooch.n.01'), Synset('poodle.n.01'), Synset('pug.n.01'), Synset('puppy.n.01'), Synset('spitz.n.01'), Synset('toy_dog.n.01'), Synset('working_dog.n.01')]\n",
            "[Synset('canine.n.02'), Synset('domestic_animal.n.01')]\n",
            "[Synset('entity.n.01')]\n",
            "[Synset('canis.n.01'), Synset('pack.n.06')]\n",
            "[]\n",
            "[]\n"
          ]
        }
      ]
    },
    {
      "cell_type": "markdown",
      "source": [
        "Все узлы выше или ниже данного в иерархии: метод closure"
      ],
      "metadata": {
        "id": "hboQQ5q-Ndo4"
      }
    },
    {
      "cell_type": "code",
      "source": [
        "hypo = lambda s: s.hyponyms()\n",
        "hyper = lambda s: s.hypernyms()"
      ],
      "metadata": {
        "id": "31xdQ6rzNjr3"
      },
      "execution_count": 8,
      "outputs": []
    },
    {
      "cell_type": "code",
      "source": [
        "print(list(exemplar.closure(hypo)))"
      ],
      "metadata": {
        "colab": {
          "base_uri": "https://localhost:8080/"
        },
        "id": "SoqaQxQSNvHK",
        "outputId": "db589749-d8da-4921-dcfd-1f754183c3fd"
      },
      "execution_count": 9,
      "outputs": [
        {
          "output_type": "stream",
          "name": "stdout",
          "text": [
            "[Synset('basenji.n.01'), Synset('corgi.n.01'), Synset('cur.n.01'), Synset('dalmatian.n.02'), Synset('great_pyrenees.n.01'), Synset('griffon.n.02'), Synset('hunting_dog.n.01'), Synset('lapdog.n.01'), Synset('leonberg.n.01'), Synset('mexican_hairless.n.01'), Synset('newfoundland.n.01'), Synset('pooch.n.01'), Synset('poodle.n.01'), Synset('pug.n.01'), Synset('puppy.n.01'), Synset('spitz.n.01'), Synset('toy_dog.n.01'), Synset('working_dog.n.01'), Synset('cardigan.n.02'), Synset('pembroke.n.01'), Synset('feist.n.01'), Synset('pariah_dog.n.01'), Synset('liver-spotted_dalmatian.n.01'), Synset('brabancon_griffon.n.01'), Synset('courser.n.03'), Synset('dachshund.n.01'), Synset('hound.n.01'), Synset('rhodesian_ridgeback.n.01'), Synset('sporting_dog.n.01'), Synset('terrier.n.01'), Synset('large_poodle.n.01'), Synset('miniature_poodle.n.01'), Synset('standard_poodle.n.01'), Synset('toy_poodle.n.01'), Synset('chow.n.03'), Synset('keeshond.n.01'), Synset('pomeranian.n.01'), Synset('samoyed.n.03'), Synset('chihuahua.n.03'), Synset('japanese_spaniel.n.01'), Synset('maltese_dog.n.01'), Synset('pekinese.n.01'), Synset('shih-tzu.n.01'), Synset('toy_spaniel.n.01'), Synset('toy_terrier.n.01'), Synset('boxer.n.04'), Synset('bull_mastiff.n.01'), Synset('bulldog.n.01'), Synset('eskimo_dog.n.01'), Synset('great_dane.n.01'), Synset('guide_dog.n.01'), Synset('hearing_dog.n.01'), Synset('mastiff.n.01'), Synset('police_dog.n.01'), Synset('saint_bernard.n.01'), Synset('seizure-alert_dog.n.01'), Synset('sennenhunde.n.01'), Synset('shepherd_dog.n.01'), Synset('sled_dog.n.01'), Synset('watchdog.n.02'), Synset('sausage_dog.n.01'), Synset('afghan_hound.n.01'), Synset('basset.n.01'), Synset('beagle.n.01'), Synset('bloodhound.n.01'), Synset('bluetick.n.01'), Synset('boarhound.n.01'), Synset('coonhound.n.01'), Synset('foxhound.n.01'), Synset('greyhound.n.01'), Synset('harrier.n.02'), Synset('ibizan_hound.n.01'), Synset('norwegian_elkhound.n.01'), Synset('otterhound.n.01'), Synset('plott_hound.n.01'), Synset('redbone.n.01'), Synset('saluki.n.01'), Synset('scottish_deerhound.n.01'), Synset('staghound.n.01'), Synset('weimaraner.n.01'), Synset('wolfhound.n.01'), Synset('bird_dog.n.01'), Synset('griffon.n.03'), Synset('pointer.n.04'), Synset('retriever.n.01'), Synset('setter.n.02'), Synset('spaniel.n.01'), Synset('water_dog.n.02'), Synset('airedale.n.01'), Synset('australian_terrier.n.01'), Synset('bedlington_terrier.n.01'), Synset('border_terrier.n.01'), Synset('boston_bull.n.01'), Synset('bullterrier.n.01'), Synset('cairn.n.02'), Synset('dandie_dinmont.n.01'), Synset('fox_terrier.n.01'), Synset('irish_terrier.n.01'), Synset('kerry_blue_terrier.n.01'), Synset('lhasa.n.02'), Synset('norfolk_terrier.n.01'), Synset('norwich_terrier.n.01'), Synset('rat_terrier.n.01'), Synset('schnauzer.n.01'), Synset('scotch_terrier.n.01'), Synset('silky_terrier.n.01'), Synset('skye_terrier.n.01'), Synset('soft-coated_wheaten_terrier.n.01'), Synset('tibetan_terrier.n.01'), Synset('west_highland_white_terrier.n.01'), Synset('wirehair.n.01'), Synset('yorkshire_terrier.n.01'), Synset('english_toy_spaniel.n.01'), Synset('king_charles_spaniel.n.01'), Synset('papillon.n.01'), Synset('french_bulldog.n.01'), Synset('seeing_eye_dog.n.01'), Synset('tibetan_mastiff.n.01'), Synset('appenzeller.n.01'), Synset('bernese_mountain_dog.n.01'), Synset('entlebucher.n.01'), Synset('greater_swiss_mountain_dog.n.01'), Synset('belgian_sheepdog.n.01'), Synset('border_collie.n.01'), Synset('bouvier_des_flandres.n.01'), Synset('briard.n.01'), Synset('collie.n.01'), Synset('german_shepherd.n.01'), Synset('kelpie.n.02'), Synset('komondor.n.01'), Synset('old_english_sheepdog.n.01'), Synset('rottweiler.n.01'), Synset('shetland_sheepdog.n.01'), Synset('malamute.n.01'), Synset('siberian_husky.n.01'), Synset('attack_dog.n.01'), Synset('housedog.n.01'), Synset('kuvasz.n.01'), Synset('pinscher.n.01'), Synset('schipperke.n.01'), Synset('black-and-tan_coonhound.n.01'), Synset('coondog.n.01'), Synset('american_foxhound.n.01'), Synset('english_foxhound.n.01'), Synset('walker_hound.n.01'), Synset('italian_greyhound.n.01'), Synset('whippet.n.01'), Synset('borzoi.n.01'), Synset('irish_wolfhound.n.01'), Synset('german_short-haired_pointer.n.01'), Synset('vizsla.n.01'), Synset('chesapeake_bay_retriever.n.01'), Synset('curly-coated_retriever.n.01'), Synset('flat-coated_retriever.n.01'), Synset('golden_retriever.n.01'), Synset('labrador_retriever.n.01'), Synset('english_setter.n.01'), Synset('gordon_setter.n.01'), Synset('irish_setter.n.01'), Synset('brittany_spaniel.n.01'), Synset('clumber.n.01'), Synset('cocker_spaniel.n.01'), Synset('field_spaniel.n.01'), Synset('springer_spaniel.n.01'), Synset('sussex_spaniel.n.01'), Synset('water_spaniel.n.01'), Synset('american_staffordshire_terrier.n.01'), Synset('staffordshire_bullterrier.n.01'), Synset('smooth-haired_fox_terrier.n.01'), Synset('wire-haired_fox_terrier.n.01'), Synset('manchester_terrier.n.01'), Synset('giant_schnauzer.n.01'), Synset('miniature_schnauzer.n.01'), Synset('standard_schnauzer.n.01'), Synset('clydesdale_terrier.n.01'), Synset('lakeland_terrier.n.01'), Synset('welsh_terrier.n.01'), Synset('blenheim_spaniel.n.01'), Synset('groenendael.n.01'), Synset('malinois.n.01'), Synset('affenpinscher.n.01'), Synset('doberman.n.01'), Synset('miniature_pinscher.n.01'), Synset('english_springer.n.01'), Synset('welsh_springer_spaniel.n.01'), Synset('american_water_spaniel.n.01'), Synset('irish_water_spaniel.n.01'), Synset('toy_manchester.n.01'), Synset('sealyham_terrier.n.01')]\n"
          ]
        }
      ]
    },
    {
      "cell_type": "code",
      "source": [
        "print(list(exemplar.closure(hyper)))"
      ],
      "metadata": {
        "colab": {
          "base_uri": "https://localhost:8080/"
        },
        "id": "bESP9kcyN50j",
        "outputId": "84bdac61-cca8-417e-d63d-ccff909ae815"
      },
      "execution_count": 10,
      "outputs": [
        {
          "output_type": "stream",
          "name": "stdout",
          "text": [
            "[Synset('canine.n.02'), Synset('domestic_animal.n.01'), Synset('carnivore.n.01'), Synset('animal.n.01'), Synset('placental.n.01'), Synset('organism.n.01'), Synset('mammal.n.01'), Synset('living_thing.n.01'), Synset('vertebrate.n.01'), Synset('whole.n.02'), Synset('chordate.n.01'), Synset('object.n.01'), Synset('physical_entity.n.01'), Synset('entity.n.01')]\n"
          ]
        },
        {
          "output_type": "stream",
          "name": "stderr",
          "text": [
            "/usr/local/lib/python3.10/dist-packages/nltk/corpus/reader/wordnet.py:604: UserWarning: Discarded redundant search for Synset('animal.n.01') at depth 7\n",
            "  for synset in acyclic_breadth_first(self, rel, depth):\n"
          ]
        }
      ]
    },
    {
      "cell_type": "markdown",
      "metadata": {
        "id": "Oc78p8o_RLHZ"
      },
      "source": [
        "Ближайший общий гипероним"
      ]
    },
    {
      "cell_type": "code",
      "metadata": {
        "colab": {
          "base_uri": "https://localhost:8080/"
        },
        "id": "OwAXQpdNRLHa",
        "outputId": "8dd6424f-6849-451c-a71e-a26efcab7dd7"
      },
      "source": [
        "print(wn.synset('person.n.01').lowest_common_hypernyms(wn.synset('dog.n.01')))"
      ],
      "execution_count": null,
      "outputs": [
        {
          "output_type": "stream",
          "name": "stdout",
          "text": [
            "[Synset('organism.n.01')]\n"
          ]
        }
      ]
    },
    {
      "cell_type": "markdown",
      "metadata": {
        "id": "q_C_SD4NRLHb"
      },
      "source": [
        "Расстояние между синсетами: <br>\n",
        "path_similarity - оценивает расстояние по кратчайшему пути между синсетами. <br>\n",
        "Значение - от 0 до 1, где 1 - максимальная степень близости."
      ]
    },
    {
      "cell_type": "code",
      "metadata": {
        "colab": {
          "base_uri": "https://localhost:8080/"
        },
        "id": "qoTTZXYYRLHc",
        "outputId": "ee91c292-ec5c-4acf-83a9-128896e42b2e"
      },
      "source": [
        "print(wn.synset('dog.n.01').path_similarity(wn.synset('cat.n.01')))\n",
        "print(wn.synset('person.n.01').path_similarity(wn.synset('cat.n.01')))\n",
        "print(wn.synset('dog.n.01').path_similarity(wn.synset('person.n.01')))"
      ],
      "execution_count": null,
      "outputs": [
        {
          "output_type": "stream",
          "name": "stdout",
          "text": [
            "0.2\n",
            "0.1\n",
            "0.2\n"
          ]
        }
      ]
    },
    {
      "cell_type": "markdown",
      "metadata": {
        "id": "y-dgFq-dRLHc"
      },
      "source": [
        "Деривационные отношения и отношение антонимии определены только для лемм:"
      ]
    },
    {
      "cell_type": "code",
      "metadata": {
        "colab": {
          "base_uri": "https://localhost:8080/"
        },
        "id": "oL3dVH1fRLHe",
        "outputId": "765bd175-92df-44d6-b2f5-4e437a4cafb0"
      },
      "source": [
        "for lemma in wn.lemmas('personal'):\n",
        "    print (lemma)\n",
        "    print ('Pertainyms:', lemma.pertainyms())\n",
        "    print ('Antonyms:', lemma.antonyms())\n",
        "    print ('Derivationally related forms:', lemma.derivationally_related_forms())"
      ],
      "execution_count": null,
      "outputs": [
        {
          "output_type": "stream",
          "name": "stdout",
          "text": [
            "Lemma('personal.n.01.personal')\n",
            "Pertainyms: []\n",
            "Antonyms: []\n",
            "Derivationally related forms: []\n",
            "Lemma('personal.a.01.personal')\n",
            "Pertainyms: []\n",
            "Antonyms: [Lemma('impersonal.a.01.impersonal')]\n",
            "Derivationally related forms: []\n",
            "Lemma('personal.s.02.personal')\n",
            "Pertainyms: []\n",
            "Antonyms: []\n",
            "Derivationally related forms: []\n",
            "Lemma('personal.a.03.personal')\n",
            "Pertainyms: [Lemma('personality.n.01.personality')]\n",
            "Antonyms: []\n",
            "Derivationally related forms: [Lemma('personality.n.01.personality')]\n",
            "Lemma('personal.s.04.personal')\n",
            "Pertainyms: []\n",
            "Antonyms: []\n",
            "Derivationally related forms: []\n",
            "Lemma('personal.a.05.personal')\n",
            "Pertainyms: [Lemma('person.n.03.person')]\n",
            "Antonyms: []\n",
            "Derivationally related forms: []\n"
          ]
        }
      ]
    },
    {
      "cell_type": "markdown",
      "metadata": {
        "id": "y48tTIyuRLHg"
      },
      "source": [
        "## MultiWordNet"
      ]
    },
    {
      "cell_type": "markdown",
      "metadata": {
        "id": "3s2NGVvvRLHh"
      },
      "source": [
        "http://compling.hss.ntu.edu.sg/omw/ <br>\n",
        "Условные обозначения языков: коды ISO-639"
      ]
    },
    {
      "cell_type": "code",
      "metadata": {
        "id": "XvD3AhJZRLHh",
        "colab": {
          "base_uri": "https://localhost:8080/"
        },
        "outputId": "e8930459-a9dd-4878-9507-f8e0058ae452"
      },
      "source": [
        "sorted(wn.langs()), len(wn.langs())"
      ],
      "execution_count": 37,
      "outputs": [
        {
          "output_type": "execute_result",
          "data": {
            "text/plain": [
              "(['als',\n",
              "  'arb',\n",
              "  'bul',\n",
              "  'cat',\n",
              "  'cmn',\n",
              "  'dan',\n",
              "  'ell',\n",
              "  'eng',\n",
              "  'eus',\n",
              "  'fin',\n",
              "  'fra',\n",
              "  'glg',\n",
              "  'heb',\n",
              "  'hrv',\n",
              "  'ind',\n",
              "  'isl',\n",
              "  'ita',\n",
              "  'ita_iwn',\n",
              "  'jpn',\n",
              "  'lit',\n",
              "  'nld',\n",
              "  'nno',\n",
              "  'nob',\n",
              "  'pol',\n",
              "  'por',\n",
              "  'ron',\n",
              "  'slk',\n",
              "  'slv',\n",
              "  'spa',\n",
              "  'swe',\n",
              "  'tha',\n",
              "  'zsm'],\n",
              " 32)"
            ]
          },
          "metadata": {},
          "execution_count": 37
        }
      ]
    },
    {
      "cell_type": "code",
      "metadata": {
        "id": "e2TCfbNuRLHi",
        "colab": {
          "base_uri": "https://localhost:8080/"
        },
        "outputId": "a459490b-1515-4cb8-d5c1-84bce88e1e1b"
      },
      "source": [
        "print (exemplar.lemma_names('fra'))\n",
        "print (exemplar.lemma_names('hrv'))\n",
        "print (exemplar.lemma_names('jpn'))"
      ],
      "execution_count": 36,
      "outputs": [
        {
          "output_type": "stream",
          "name": "stdout",
          "text": [
            "['canis_familiaris', 'chien']\n"
          ]
        },
        {
          "output_type": "stream",
          "name": "stderr",
          "text": [
            "/usr/local/lib/python3.10/dist-packages/nltk/corpus/reader/wordnet.py:1564: UserWarning: No WordNet synset found for pos=a at offset=1498548.\n",
            "  warnings.warn(f\"No WordNet synset found for pos={pos} at offset={offset}.\")\n",
            "/usr/local/lib/python3.10/dist-packages/nltk/corpus/reader/wordnet.py:1564: UserWarning: No WordNet synset found for pos=a at offset=1505508.\n",
            "  warnings.warn(f\"No WordNet synset found for pos={pos} at offset={offset}.\")\n",
            "/usr/local/lib/python3.10/dist-packages/nltk/corpus/reader/wordnet.py:1564: UserWarning: No WordNet synset found for pos=a at offset=2002046.\n",
            "  warnings.warn(f\"No WordNet synset found for pos={pos} at offset={offset}.\")\n",
            "/usr/local/lib/python3.10/dist-packages/nltk/corpus/reader/wordnet.py:1564: UserWarning: No WordNet synset found for pos=a at offset=2917945.\n",
            "  warnings.warn(f\"No WordNet synset found for pos={pos} at offset={offset}.\")\n"
          ]
        },
        {
          "output_type": "stream",
          "name": "stdout",
          "text": [
            "['Canis_lupus_familiaris', 'domaći_pas', 'pas']\n",
            "['イヌ', 'ドッグ', '洋犬', '犬', '飼い犬', '飼犬']\n"
          ]
        }
      ]
    },
    {
      "cell_type": "markdown",
      "metadata": {
        "id": "FaccbTjU77q_"
      },
      "source": [
        "Практические задания:\n",
        "\n",
        "\n",
        "1.   Составьте с помощью WordNet список существительных, которые могут выступать в качестве прямого дополнения при глаголе to eat, через поиск общего гиперонима для слов meat и potatos.\n",
        "2.   Найдите 10 ближайших синсетов к синсету 'cow.n.01'.\n",
        "\n"
      ]
    }
  ]
}