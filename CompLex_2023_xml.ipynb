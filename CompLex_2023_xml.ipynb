{
  "cells": [
    {
      "cell_type": "code",
      "execution_count": null,
      "metadata": {
        "collapsed": true,
        "id": "Mbu7xGIbz5ZD"
      },
      "outputs": [],
      "source": [
        "import xml.etree.ElementTree as ET"
      ]
    },
    {
      "cell_type": "code",
      "source": [
        "from google.colab import files\n",
        "uploaded = files.upload()"
      ],
      "metadata": {
        "colab": {
          "base_uri": "https://localhost:8080/",
          "height": 74
        },
        "id": "Eahmx3Ze1YwS",
        "outputId": "def31ea6-87bc-4942-c4df-161b078ff150"
      },
      "execution_count": null,
      "outputs": [
        {
          "output_type": "display_data",
          "data": {
            "text/plain": [
              "<IPython.core.display.HTML object>"
            ],
            "text/html": [
              "\n",
              "     <input type=\"file\" id=\"files-b6ea8ff8-265b-4625-916e-96426c1a0b2b\" name=\"files[]\" multiple disabled\n",
              "        style=\"border:none\" />\n",
              "     <output id=\"result-b6ea8ff8-265b-4625-916e-96426c1a0b2b\">\n",
              "      Upload widget is only available when the cell has been executed in the\n",
              "      current browser session. Please rerun this cell to enable.\n",
              "      </output>\n",
              "      <script>// Copyright 2017 Google LLC\n",
              "//\n",
              "// Licensed under the Apache License, Version 2.0 (the \"License\");\n",
              "// you may not use this file except in compliance with the License.\n",
              "// You may obtain a copy of the License at\n",
              "//\n",
              "//      http://www.apache.org/licenses/LICENSE-2.0\n",
              "//\n",
              "// Unless required by applicable law or agreed to in writing, software\n",
              "// distributed under the License is distributed on an \"AS IS\" BASIS,\n",
              "// WITHOUT WARRANTIES OR CONDITIONS OF ANY KIND, either express or implied.\n",
              "// See the License for the specific language governing permissions and\n",
              "// limitations under the License.\n",
              "\n",
              "/**\n",
              " * @fileoverview Helpers for google.colab Python module.\n",
              " */\n",
              "(function(scope) {\n",
              "function span(text, styleAttributes = {}) {\n",
              "  const element = document.createElement('span');\n",
              "  element.textContent = text;\n",
              "  for (const key of Object.keys(styleAttributes)) {\n",
              "    element.style[key] = styleAttributes[key];\n",
              "  }\n",
              "  return element;\n",
              "}\n",
              "\n",
              "// Max number of bytes which will be uploaded at a time.\n",
              "const MAX_PAYLOAD_SIZE = 100 * 1024;\n",
              "\n",
              "function _uploadFiles(inputId, outputId) {\n",
              "  const steps = uploadFilesStep(inputId, outputId);\n",
              "  const outputElement = document.getElementById(outputId);\n",
              "  // Cache steps on the outputElement to make it available for the next call\n",
              "  // to uploadFilesContinue from Python.\n",
              "  outputElement.steps = steps;\n",
              "\n",
              "  return _uploadFilesContinue(outputId);\n",
              "}\n",
              "\n",
              "// This is roughly an async generator (not supported in the browser yet),\n",
              "// where there are multiple asynchronous steps and the Python side is going\n",
              "// to poll for completion of each step.\n",
              "// This uses a Promise to block the python side on completion of each step,\n",
              "// then passes the result of the previous step as the input to the next step.\n",
              "function _uploadFilesContinue(outputId) {\n",
              "  const outputElement = document.getElementById(outputId);\n",
              "  const steps = outputElement.steps;\n",
              "\n",
              "  const next = steps.next(outputElement.lastPromiseValue);\n",
              "  return Promise.resolve(next.value.promise).then((value) => {\n",
              "    // Cache the last promise value to make it available to the next\n",
              "    // step of the generator.\n",
              "    outputElement.lastPromiseValue = value;\n",
              "    return next.value.response;\n",
              "  });\n",
              "}\n",
              "\n",
              "/**\n",
              " * Generator function which is called between each async step of the upload\n",
              " * process.\n",
              " * @param {string} inputId Element ID of the input file picker element.\n",
              " * @param {string} outputId Element ID of the output display.\n",
              " * @return {!Iterable<!Object>} Iterable of next steps.\n",
              " */\n",
              "function* uploadFilesStep(inputId, outputId) {\n",
              "  const inputElement = document.getElementById(inputId);\n",
              "  inputElement.disabled = false;\n",
              "\n",
              "  const outputElement = document.getElementById(outputId);\n",
              "  outputElement.innerHTML = '';\n",
              "\n",
              "  const pickedPromise = new Promise((resolve) => {\n",
              "    inputElement.addEventListener('change', (e) => {\n",
              "      resolve(e.target.files);\n",
              "    });\n",
              "  });\n",
              "\n",
              "  const cancel = document.createElement('button');\n",
              "  inputElement.parentElement.appendChild(cancel);\n",
              "  cancel.textContent = 'Cancel upload';\n",
              "  const cancelPromise = new Promise((resolve) => {\n",
              "    cancel.onclick = () => {\n",
              "      resolve(null);\n",
              "    };\n",
              "  });\n",
              "\n",
              "  // Wait for the user to pick the files.\n",
              "  const files = yield {\n",
              "    promise: Promise.race([pickedPromise, cancelPromise]),\n",
              "    response: {\n",
              "      action: 'starting',\n",
              "    }\n",
              "  };\n",
              "\n",
              "  cancel.remove();\n",
              "\n",
              "  // Disable the input element since further picks are not allowed.\n",
              "  inputElement.disabled = true;\n",
              "\n",
              "  if (!files) {\n",
              "    return {\n",
              "      response: {\n",
              "        action: 'complete',\n",
              "      }\n",
              "    };\n",
              "  }\n",
              "\n",
              "  for (const file of files) {\n",
              "    const li = document.createElement('li');\n",
              "    li.append(span(file.name, {fontWeight: 'bold'}));\n",
              "    li.append(span(\n",
              "        `(${file.type || 'n/a'}) - ${file.size} bytes, ` +\n",
              "        `last modified: ${\n",
              "            file.lastModifiedDate ? file.lastModifiedDate.toLocaleDateString() :\n",
              "                                    'n/a'} - `));\n",
              "    const percent = span('0% done');\n",
              "    li.appendChild(percent);\n",
              "\n",
              "    outputElement.appendChild(li);\n",
              "\n",
              "    const fileDataPromise = new Promise((resolve) => {\n",
              "      const reader = new FileReader();\n",
              "      reader.onload = (e) => {\n",
              "        resolve(e.target.result);\n",
              "      };\n",
              "      reader.readAsArrayBuffer(file);\n",
              "    });\n",
              "    // Wait for the data to be ready.\n",
              "    let fileData = yield {\n",
              "      promise: fileDataPromise,\n",
              "      response: {\n",
              "        action: 'continue',\n",
              "      }\n",
              "    };\n",
              "\n",
              "    // Use a chunked sending to avoid message size limits. See b/62115660.\n",
              "    let position = 0;\n",
              "    do {\n",
              "      const length = Math.min(fileData.byteLength - position, MAX_PAYLOAD_SIZE);\n",
              "      const chunk = new Uint8Array(fileData, position, length);\n",
              "      position += length;\n",
              "\n",
              "      const base64 = btoa(String.fromCharCode.apply(null, chunk));\n",
              "      yield {\n",
              "        response: {\n",
              "          action: 'append',\n",
              "          file: file.name,\n",
              "          data: base64,\n",
              "        },\n",
              "      };\n",
              "\n",
              "      let percentDone = fileData.byteLength === 0 ?\n",
              "          100 :\n",
              "          Math.round((position / fileData.byteLength) * 100);\n",
              "      percent.textContent = `${percentDone}% done`;\n",
              "\n",
              "    } while (position < fileData.byteLength);\n",
              "  }\n",
              "\n",
              "  // All done.\n",
              "  yield {\n",
              "    response: {\n",
              "      action: 'complete',\n",
              "    }\n",
              "  };\n",
              "}\n",
              "\n",
              "scope.google = scope.google || {};\n",
              "scope.google.colab = scope.google.colab || {};\n",
              "scope.google.colab._files = {\n",
              "  _uploadFiles,\n",
              "  _uploadFilesContinue,\n",
              "};\n",
              "})(self);\n",
              "</script> "
            ]
          },
          "metadata": {}
        },
        {
          "output_type": "stream",
          "name": "stdout",
          "text": [
            "Saving example.xml to example.xml\n"
          ]
        }
      ]
    },
    {
      "cell_type": "markdown",
      "metadata": {
        "id": "NQlu_qYnz5ZH"
      },
      "source": [
        "## Парсинг"
      ]
    },
    {
      "cell_type": "markdown",
      "metadata": {
        "id": "gIcSjCD6z5ZQ"
      },
      "source": [
        "![xml_countries.png](data:image/png;base64,iVBORw0KGgoAAAANSUhEUgAAAdAAAAF2CAMAAAGewQlXAAAAAXNSR0IArs4c6QAAAARnQU1BAACxjwv8YQUAAAI3UExURW3ezEBwpUBwqyNwU3CrmJf/zHCHi0jCqO7RmAZHfzNtj0jCzAZHmACDU1irscirpQAAAL6rOUyrpsirq0yHmO6ri1irwX9/fzNQdgCDbUyrt01tj76rUzMzM0yHt6jesUyrzDMzSaiWoAAAAKiWpSOrbaiWq6jezO7CUzMzX01Qdmmuj5T/zE0zMwYoc22rqO7Udsb/zAYof22DIHGWsQYoi6rMmXGWuSOrqMjCq1iDpW2DOViDq2muzIveuViDsYvewZSWIIuWpSODOe6uXylHi0hwIIuWq+7Cq22DU4vezO7/iYuWsU2NrO7/j2ltj3FwoMj/uUCDq5SWOcCri+6udnFwpUCDscCHf8j/wUiWiUhwOXFwq+7/pu7/qMj/zJTebXd/Zu7/rCODbYXUzO7/t0hwU+7/ucaNSe7/wSszJpfRmGlQdkBAQKRtM+7/zGkzM8aNXwCWU6irq6RtSaT/zG3CzGmNdnBHc1VmTIVtXwBwICkocykof4WuzJeri3GrsYVtdpeHfwCWiQBwOYVQM77/zHGrwWmNrABwU4urpUirbe7ebYurq4ursQAAAMjescD/t22WOViWq8bRmEirqMD/zFiWuUiDIO7ese7euXHCuQZmmHGDoECWq3HCwXGDpUCWsW3eiSmHt22WbQZmpkCWuaj/zHHCzHGDsXDRplhwoCNwIFhwpUwoc4WNrFhwq4vCsUwof4uDoHDRzCOWiYuDpSNwOUiDbYuDq5dmc0BwoIvCzHxk9vEAAACQdFJOU/////////////////////8Y////////////////////////KP//////////////////////////////////////////////////////////////////////////////////////////////////////////////////////////////////////////////gOLOKeYAAAAJcEhZcwAACdcAAAnXAbFuF7cAADDiSURBVHhe7X2LYxzHeR/BGi4kXkPLNFDKNWIYZWlKkbcklCuZ1owsBVauxxeaOMbJMYSaInpEpHCUJmrOBRzbkkVSKVzGbQz2YvpV+IijwcCyAasWNn9cv983M/s47B7m9vbu9hbzIxezO4+d++Y3r29ee+Rj95LiyD2RFBT0+3/w6wtije4vwOL7uM7g7iB0FeuGWBJLjnrsBN3JStjge1Gj6z5uJvCHQXdxv6jrWAFHjIva1F1nnU1l2Q7pxDpD0XFszrp32w6pxCqKM47jiEmGfmqHdGIdc5ziOKKqj2y5QiyPuIQRIWAAdbpVXhk9idVdlpGN1PGgQDF7UEGX+G9nCP/gUWUaIUrWkquzf0mZkQgF7SjSfbH+DmVBQ0T9YEO0Br0u7t41jDgQtKBMQuA2HjE/2CTeQFBHjPpJHHqIhh+UsmADBW2Pct2nKctV3QlX0FWnPyXKgxOcD+t+3RPzg00ggzo1io4iHDepzjS6jlVW4UX8eV+IqjSrB7QmXccKbBSXRM2ZnNyY4Rtl2wbpxEp1RdFBHt6Y4VtlH4tUYlW4y38b/Lc9UorV4bgo17v3XVTWlIUp/3K9zX+pxnLFKe8XpRIrpbAnIfcKKJb7smvg/xFiykv5rmPdUCXGJBN56CpWijFZn6urWBPjiHpFAiDoJbpeVWYH6CrWypgYUw+doUtZqQei25jl6jIb9Bc3/BCHrmNl6JhNm/V0YvUEDt3GI51Yxc8XggyHnyKQSqyVdbpQbEtirinEXFnSK8QrkmHqudH/wA/pRazLMjshtsVgzAQVcyqxdowsBNVJ3z4vKOyLdUGZByM6VsLBEftBt5VJEfu37dDyg0NxHRBxMOjqqrqBwP5DHPygFbp2FygUZUS60NurUhZUoMdSi+rS8oM7gRe0VllYWO1Mu1JmAsigS5wR8Ic7tAGzDdKQtXOkEnTBzzyB2zZII9bVChE7Jnb5XgQeYpFKrJSJK2KB26lqtSTqilnUonWyIrNKWRuP6sekESuKjoqVewXVKv4jFooTLci+/NV9rEZtcQu6izVpn6ubWJP3h5MjECmP07ZgjQduYXKvNyUMWtJk1CbBwCVtg+DQYSvqHadQXKTbRkNcCRERqbOwJxzqYe6JKXFXOKIWeE4HWeHUWR0fdVheXzKSN8I2KbIi6cYYNajoqy1BwrviKl1y/GhDzITckiIzknLd1CCBSCL6w4OR1KS+Lw1uy4F5HjpCs7tMd/PSUg8nkf08XTOR6TEskroknJJRSQtZYyWu/u4+iQcsKekijTF/+GIU4rbvEybGwCVtlZPgVu9X3RJGV5klIo7uQWaV7RKmxIAl9YDci3m2IuW4q/REda33nA6yI2mtImVzxA36i5oX8vq23SIzkrJeQ/8oAwelImljXDpFViQlGUJ1L6NarcopCiqlpNBN0PVpeoBJoIZH17XBO7RH6xE9jUFL6oj1JUiGHArMpNAbisbgOaXenph5e2wdJtVLpboYmdtqypp3RIyo5xHmvBsMXlINRzyojL09/roQk/QvbJMGsiPpBiQTzpi4Ckm1tJ5t14iR1B9uuUJRfk5FjMKUYCBmH+KS16+LWhHvYoxYTqnI1NBZa0WJp4YV6q6q9DAojA6ohr4r7dTJTVc3GtnJSB4iElIOBPgyxQ8NwL4uxiMyXptIU+kRRfIfirQlZ6ZQOKIRjDT8q3o41MGRehL2TLYwEGnX5a5THLn39f6ji/UEydHFUHFifG1Qkb73WtTwMuPlY+/Q39eOvXzstQuxnjoGRfoiGWviNq86PiNuYxD7Nbr91DE5pk049hU2bvPfFDCw5O07EKmDQZs9eqAmtC+gSKljX5za2BNTrHP3A4eLUw2v0Qa/Ycw1T6i7pjit7rQ51+w0LwQidcSuGN1uFBvFPYoWK+mbd8rNxZKclj9BXa9F+te8c5r/ihdgwg/96TAvxCZvKn2VGGQmI005M856Y7cglx1S0oWeU0BUpFRmRzcaxcIuR0JPoecUkJnk7TkiOZ1xtkeddWJSiIs3rt24dvEKmA3YdolITsdFwxklLh1xUvzi4i8uXrwLZn3bbjEUnKqZi+4QEakjNoobxS/OfHGm4IDLJ9n2xhs33kDCht2SIUpSZ7W46nx89+O7tcKGmDwprkyenDx5S9yCiwi6JcVQcNopIvNAJKdPFKZmwN5MYWaGGrqKEEcnPttslsrzQnyweXqxeWdi/rSok6b92eYHm0LAvl4vzz8cQRs78cJR0tM/2HTposcI5iM5dZztwvbuatFxPjFVG0X2wd6hh6Xpo3Aecee23M36ptt0j/LSeLG1Q3fN6aPTTbI9OteUti75Xo3s7OWSU40Qtwk4nV4U1GE6LZrl8rzk9ehEeT6e21cut3KbgFO3/OWye5TYm58mJsGr627twCWa24cUdZjbDHDq7Z3AYs3eIRApYtz9FTqhBe6EFndTaMUiEZI0PHDUO2kzwKnCfhm3JqYvq1sPW8FByY4Q4rSFUVIZ5kitUJUdlcHmncWJOSqv4kSdK7mknMcmbwyjJF1Z3SZHZjhViVaQtQiUOYZ6TgERkfK6LlIjKG6qLx0xFnpOAwbJm1JMAWSNU2rcxJWLz158Ep1Qj1nYdotITmtilFjco5SdFRevSbuxgC176wKRyRtV5qcibZMhU5yqPs2GuCaevUL/iFuyB6+eS3JEcrpeXC9O1aZqFMeU+Db+Xbx28Rp4DbkkRmTyYq8FpsVbMRXr0hkyw+lUY5cUfbHqPNj95G6NFH4hvrW5JX54dG7RdefKp09vkact6ulPP3LJxGavucsuNXZzi8dfov6hmN781iZ8/vIR3PanS1SkVM82yOdGkdpW9HvJilpSallVq03KjBC4yvelKcQmerzU7k3snHqf7C/z4B33g6OGCzKTvD1HMFIqBLWZ2jol7q7TcGZmDjjhIjmCkVK92qhh6LVRrNQwhNOPSPuGQUfqiIKDpH2iQF3QygZ194MK4oenoBLimVX+rpq3oKROrVAb3SZFcaHg8NKEkIKojhB5WEIvuLuGPMOcpjI45yMiUuqCVsTGEwUideqvb7x7DgXHt5F+ukOUpFQp4ISMgrMhrl989y0Mzvk2aSDDnAIp8hrJ6QaGdDaIxylx7sYb0o6KiW/bJSI5XRLbBaKQSuPkxVsCA6/g1bftFpni1GPwppg9J56ZFbN4wABMCtxGRNrgjuZGbaO2+ysm88rkGxhMR4wtLgkRLSnXAvvzC1nHuHSGTHHKy4UaETJtTRz/PXVLcNVGax7eoSawFVsTIy65ecN/EpGcForoHq1T2zpFbZ3sggYGd4Q4sbN5mo8awOMi3xEeoRvqHl2UE9cnmnfg++/k+FMoB7RLXuIvHbS+KDOcekkRxelc86FMYoIcxuLE9Qbx9JoA2E88Irfd/TVYRKSOaBSxRZ453dOc+usA6C/WH5xYLJVLFHGAT6wO0HzCQO4ai2iD2yRvZ5vz4xBVpgfOaWDYBknabZ8vHoFIod63rOnotr6LQSh5w3F0UaMfgIFxCi6plQSPvWIxDIpUDtX0c+0VJ29fYgpgQJyqhaj9xJ8duffvDgW+3mZxeq7wtUMl6ItcUi+IP7107NKxf3bGO8Digvi1OCKeFmtPr9H902x/Qbwm3lMe/sOl5+R5xIQj4jfyGW4vp7YOODVIRi89LV79jjizsrby8juPz/zzlZX3pOs7lAgr7726snJMrKw8R+Z74uWVY/An3QkrKxSWvL+orOg99D97OFxZ9zCABXU2xMLGGHVVljZkr5NM4fS7Te8tFKOOWJ1xdp0HjlhwCoLMsf50zfoHW0bzhkhBqcwuUQZeaJCKgesJUeCyu1esLGyosYqjpFx/VjSrzfdLpPvLIZwPqpusmctlLfPiIXYf0wNUcjwjDE7u0M/wBzuE63WdEMOoI2pUVmvOqNiecd52xpx1LrukMaKeIpTcuivcEXfu4VapOc1rgxh118Vx7EcF7KbdJvuru5t4lmHoXj3DH9sRel4n2DLaBhU90HbzirpZCo0xeu5ZgomgqxBjD0saqPAWqMwWuDg5u+KudMNYaqR7hpBK1s0ig62wZdQEtyaFmFXXTXnuQWt5zQyMy2hxbLeCuTyUQ5RHLoNvCnFDvMHX34gbXnmN9DtgGDNaMRxIR3k19dtP2DIahh5ED83Ncm/mSZzE9zvSxPWsuMgXhxnXOXZ/uH7DSFAqapV1UcS1MCVquMZYBPRPIehVumDSdVFc44vCiLGpNuH6DOOsu0r9XmWo2wNBgiUK1xPYMhrG/okuakWYsYMwV2+K6l+qB4I/dSsBd4l9WzT2+QXgf0I8kuHGd43Lu2kZhV4qW40Glzs8k6B746TIqdlNIZriznKZdNTF+6VlteCA4boP4UZ3L/CP58NuJgT84g4gq0esn9INwnJ4FnQCZxieUOElMM0MUB1gXN4TZd2BFjYfRjlKw5bRMLoro/7BpxHlTudDxuUkZZZy+6kDy2xfyqgQH4ov/OV5Fgo/tlqWZTBYVimsLKcSHZXZvy3Ruwntyuwwl9FWtM1hh7yMgv4avpg1Q9d6reEUKw1nd8FxGgvO3szqzLgzOoBeXFeIEZT0yHWo0DU5trskx3crJD3K4/hMbFHILA551s0hYstou/JJPkrfcjfFlivmfvjpo2LOXcSHKaktK3Oz6E5I952RLfiZ/qVbFtP07JbYL/vrd9aPK6NtyydA7Vh1scptJgunQG2ibC/RzpHY8MOzLWXqAKDd1H6zIWgOkZKgKSx/7zGMBEUXcK9Y4ak0TCEWcKAX5b0nr0o3Qdk5yj1LMGQUY7T094FTccactwvjzuvceZ7ELJPDZ8tGumcItowmRzbLq2kZxZQ+aUFUGLFEB+URZfD6OZ6O0EOdqrxG+x0wjMsopvS35dIclEcouFcnJy/yRNPk5Em+4A/lNcLvwGHLaPfIVlk1LaNjGwtFLKNb+KKYwYXlOVz23px8SzwrnuFLTyGqshobZhAwLqOrxSKW0f3849TBp4s6/AUue7cmz4nPUTnFhfKKS5fVuDCDgC2jcaC2A6g1iDCTTLhVmtgpiy0eFCT1LQz1TH7kzbJcTbYPLXbk//hEyV3kcIZLCUwE5Sn7gijydH14uLMmhzvVoCBUszmXVbcqrwqTmxSry/OnYc8/GOZp8rdD+ql+VggOcSJ81BCnfqcoP1JDoyznwUsHEmZdTOB3AX9ItmuY/hJbRqPyfswRZUOBKEH1MpqxXfErLoMYSsHSN17KSuWxyBP0g19S0wliGW2X97O4vOYgHPYySs1IC/SMWTtg6u5DcUo9hUFuA9ViIgVF35YKoFc+cXH5pKuG8SACtWmRU4Qf8pAnTwN67nhmDFAv7TTrQs0cShz2MtqKcJklUrm8zb6Fk7tbl8NJaD9ZgZGg0C+pfI5NLW1weXWgU1N5Oyn+ivTPu+yOafUoP1lBWlm3o6Uwg4Ato2Hsa1e5/F25Lpes6iWsUWWVkImyalxGqf1Ez4/LIHceqPzN3pDLVoPjuiirUX4HDdOsa9p+oqxmsq21ZTQEynrYSLtdKK5+0hnFxVP/nCO5bF7BxAQ1Ndf4YgfqKsaGGQAMBd3AGC2VueJCUczgwtS/JyhVR+KW+Lb4Bd3hQmHdW+dx3egwA4DNunmDaRnFEhyqTkeF05Bl74Gzu/BJHn1fx7Ic+IpbksMflMbym2n3UdV1m/DDmBDneaz3uPsS22FZDjDnXmZ7vVyH3Dkc7Og9iMd/98RpGY7qhHbFwrSMov861kCHoMFlD88LBSp7WlcFSAeNWpJD9zu8/KYs7pNa/j4vyZH2D3kcl9w9O8LyptoWrZfrIDyF4we8B+PHGp+vynuqE1IQNAfIgaBm05NGgqJr94SerldZd0YUFmZ01sX0PSFmJz9yILm8wFmPTHYfEV/lZ/Ivd+1jCEbNvdTn6xweu/7VlATC8fsB+HfJK4dD9WDQZhkyystq1tG326YKaLVYrDjjjvMJigA7+zElQ4jbyU8VSBNzLLybn0y4//vvumV+Jv/Kl6AKaecVzLmg4lG7/rHDX4fTO/wBqozk+1cNlQZbRodh2VsniBQUZZLyfvvTNQbVl0uIGEbl1Hyb0zUyNfBlgsNYRvNVJlvBgqoymetTqhSjarlMjk+pOoxlNN8gQQ8HPnbk6+q40pzj3pGvKW5zDito3nDIBD3z3Nrtp6QFcEaZB+DShcfizJq8R3g8w3xeWmULLCifh3tGXDrysnh57bljWtAzYk38sThzWzy+/d/OiKduw/5FEuXMc9LDq0f+C0nIt+JT4tJtfoanS09LyyyBBcX5x/jBj4+J36wJT1Bx7NfiZzD5UOQ1FvQrQhxBAnhQt8SnvOHnrAqKo5yfPyJWjj3+NytrF1aeX1nBEc8yC9M9PePgZAH7S3RP/tTZ0STgygqFJe8r70gLeg/9zx4OWWV0CGAFzRukoJUpXuIIqHXX0MNzBQg67gixzV/QqSlByazI0ffcQAtaIEZXlaBs5lFQZN0x56Mze06tIbaddZi5zLqHAlbQvOGQC4p2tQWqfW2H6sQWFlOEUMIfns8OoOUZ4Xpe+UUJiuamtj4+hW2Ee9Ts7P12ZZ0FdUYbZLcOP6XNkvgHMS3m6pvNU0J+KW+5/FUpKEkHu+OiVOZv5pFgeEaYkji+qJ/hD3YcrtfNWZyg3yCzKBamWFD0miAoXUsPJLUlURcf0N9HddEMnWtXFk0IADtc8AfBvHtRZ0E5DARlO8IgBEXWXXKc9SWHRHU+WnAaq1i7sD6OySjqSwBuc2ui5H73B259Qn5NQGHLdZs7eJYX+xNbR3Gs5SbueWmDeoY/dicMJOu2wQLJr26HDB0KOrywgraBl3v5JAJAFVyFTOZuI0GpGt5uOLt7mB+uzIjKusM1szgr3bB5ONI9SzAQdIx/cxEyOdSKjo9W3obF3gwJKt2wFCDKPUswZRRtaFGQINSmVr5HrEFCzSg2RUS5ZwlpVEayr5RxpCHoUMAKmjd0JShOy5t80r8Y4TY1MzASdNwZc3ad4gJ18tFWos2U7eSs+Atxla9Z+sc18FIjxu+AYSAot5Xjo98QjuNMoa1Em8nt5NWLEPIcrrPiT7w2NdLvoGHIKPXrdkmVGp9CW4k2E+3kzXP4LshNvmbRqOo2NcLvwGFcRpmZg8FtqqHfvqKrymiYYAVNBWqGLgswE1QPf4Z/OMZ5ZtGxv3WNTVxnz93kS4bRle3+cH2HiaCoTFfF9iimFrd3K7u4MBzK1SkExCZgCEyXbm647RxH7RsTrt8wFRTTiri2xdIGLgyHakFFQFDZ2FzlMKAuNly/YZp1x5xvjmJqcXt7RuDCcCiy4M3JyXP43B9Mvve6gxSGMm9cuL7DtDIa47NP2FC3B2ObriThegJTQYceVtChQAfttGllpG48YOAPZfAg8FTio8BcojdLI8HujNDJZRItfgH4L4nqogw3Y94mmwiKpgJTh6uisgsJ0Tbu7VbWt3fHd/mEUmeUp9hipxI3L/OsmZ4yFFuL/4SZNPhld8IHYoenEeGmpxzZL9lNizpPOQLwX3IXZTgctGPaVBkLStmEK00SFO0inonRBqYWoYoBcVOJx12X3fSUIe+5p98Nvxp3iCV+JDc95agFPS9E2ZteJHihQGeagiLrYuoQU2kLzgy1E98cdTZItV51qF0sUkLIvV0xU4lVt7wzUnV/6U0Z7pDgmDIkv/6Rs+5P52EHNz3lqPxuVvX0o4Kr3o12OtWs24rBNog+TOoID0kEHUpYQYcSbdpV08pI3XjopB3lZkVDV1EafsVLWFbto7xXNz5awxLgnyrq8oHtqomgXbej7jw3ESwU/diS+LJcfhNoTxEWbWmSdvXRH74iw7VrV40F7aIdpZ+zeeLy70v28GO/rNrJQHuKsNyWKnTSrp5u/pa8adeummbdLtpRagtHRLVMHMGO2kbqQCzCHW0m7NCeIizaUhWko3b1OHEMtG1Xk1RGWWlHW9G2zkgi6FDCCho1/acqnaFEpKCoZpcaGMjaXXIKS86eM4plNdsOL8P5CKYF4WWoECGoN/33DbGw663wXKdeBxilegjTguQhW8trDkIsowVkXozFYs1uTS1lXcJpcjwtOIih2a4QV0bbLqnJZuvSHvGVUc5gBc0bjAU1aEPrD9Ev/ekidT7bgv31G5GCUq3brg2FF5c62HV3ovpHR7eokz2PAauJavMfWeEoQV5yX3Z/SR31CTGyNUIWR8X0BDrk8wL++t4ORwjK7Wj7NlSqZNAioJLNkUYBQdkBeiZJC/dH9Bd+SLdosj5KKhf8Sn99bofjGG3XhgJSkDkWNJhTP8D3sJSgp0hE+JleFJunMGJAgmq/fW+HO66MOmpDkZGxmScD6FjQYYUVtCO0GWbMCswEDQ93VqgfzGMzt67hidzCFajnniWYCMptHg9p1njYs/K9Da42seyG3TDMGOGeKRgLSmJgNz+amopDOZUFUYKCvkj3DME062JIE7v5MezprDtFzpo3sZVJLrOJdM8S0qiMOpq+GxTSEHQoYAVNjIy2qaaVkbrxgMrmpniXl6zqJazS336lJBMVk4mgaEKwW5+nDakJ4TaTm49v87JVvbJTt6nRfgcMU0GxWx+Kiz4hh3/8Z+Sy1ZCgRF+k30HDOOvSb8a0IdpKtJnIjm9OUjs6+aS/hFW1qVF+Bw7Dysh4tz61qcZ++wpDQYcfVtCukbH21LgyYoR/PCoZqnO9LSCZ3QoCmAiKZiNuW8fVyWdIuNm3cGV2KwhgKmj8to7r1KzIK7NbQQDTrBu7rWPypDhLbSmuzG4FAUwro063dUBH7TRMT2Eq6NDDChoHOW6yRFWKXNRxAOoP3eURUeelb5hlC0FNxPjTiDvRU44tdvBP/+ZlOOpYm8BIUKpGMXWInfioNPn4yxpVMHQtqZ358BY3lXh+8/wmpg8xFQNzrlwixx8tQnA8ww9QdX/Mdnp6kWQpz7muTCD3KL9fv/PEfXwkkMItNWQtfxAMBGXmMHWInfjh1Z1LG7y6U1U0cVOJ53cWeaEiBGVzsy6WsZFAPysEV3QifNSKTv3OE9X/JFeCYuGwyRSkKaMQDDvx8WJerwtB19V6XeichLipRPqRm7DHD2bz9B1xivx6zwofYgGzEhThj4vlpijXN2GHaUe8X+MEsjlQMGyak1VGXZ534//ermH8S5IJOoSwguYN8YJGtE+q0hlKRAqKhskuY6V0sMtYM4y4MmqXsQ4rrKB5Q7Sg+6cJTdpQ7Phb3mw97lsCbgMbLwKiBEWlm/Swbwiqdw9qd5i8G3CQVXWcoGgpvTaUmxayoOugw75JUG/3oHaHyciaoMi6GJpMctj3tFsWevegdscz3DKXddsgm1OCJuhQ0OGFFbRjhGfNMgczQcPtqrdM9RkcrNY6TSiRuaWsJoKy7hmxTPXsm58R1ydPSvesL2U1FpREaF2mOntO3PgLcVa6g74IP5mBadaNXKb67iQxSvmX3DO/lDWtyijzS1nTEjTzsIImRkbbU9PKSN14QEVjl7FG+h0wTAW1y1jtMtaMwVDQ4YcVNBLoqbcAu7ZIgxFnJ9/yl8gBVFAZEWEGASNBqTrFkpsF50uvO7XiGF08pci1LLefs2hk+OMZuGQ13YgPMwgYCMrTiPtXai5QO7mHD1ARqNNwRS5hpevvWRa1TCcyzCBgyiiW3FC7OLo9Or6LC1OK3DySoLcwynDx+jn9AQ1mtIB2NCbMIGBeRuUIPdQxE5VM+u4sTE/RWWU0xLCC5g0dCyoL2xLVKabLWLFK0zsZOYgtrOAMLBpMsJx12S1vPTRazmokKNWiXS1jZUd8RfZHi1iWyktaCSVRVUtU58tJl7OenxabRstZDQTtehnrHbqwDJWXrm76S1dLcC7JA0iTLme9fOcLZstZTRmFYEmXsWI5Kpah8tLVcl0uaSVgFhX/4Z50OeupzZ/Im4OWsyarjNouzhkIDvxFyQQdQlhBhwaGw6tmgu4f7kQlZ9J/xbKb46Ik21FUMArBU6vkQd1ADz+cYSIo2idMBSY97BvNCw7ohqAw4T5drnIt6i3NIfT0wxnGglIW4eYy1I6aHfb9iC60f/jBMOFOjPI3+b2lOYSefjjDNOtiKhDDe0kO+6Z77hCog7qrcB9xR7yDvpUv6jH18MMZSSqjwW8d9GGs5yYRdChhBTVtn4YF0YJGT//p2hXIxHxKJ4gSlPU6ap/aLmUd2HBeQsQKSpS1XcqaB0GRddE+tVvKmousC7Rpn7I5LXgQ4gTNHQ6hoDlrN1shBdXtphJWtZdDV+G0AwTV7SZOquEqlQUlc9iakHbwBCX6oGfqJTNs5k1Q3W7yCLxTa6C9hJm7rAsY63XDCi1o7mEFzRvuHfmzrx8K3Dty78//pUVu8OdE6CEpo4cDX7OE5guW0JzBEpoz7CP0zMrK07fVfQBkfUHdGuKptv7XHr9zht/4VMt7KaJ3yPDcY36PRQx8Qi+9rBPu0lfoYeXY2uPv/N+X/8X/ee8/P37vObI9E0z4p4jftceU1OSRE/zFlQtnVuDvxZWV//qb234GoGeyPrPyPx5Lk3GBIji29v+OwMPa99mfwqfIjuIPuMtn8eJ31JNFWyhCZWlgrD1mYi/96R8gbX9ze+3X4swxsggRKl79j8+JPz4C4gkgUvHy6vPyUflnLsASXkFePEJ9RBBKGcKH+j2EwI+0iINfQsNF4Mx7z736PBWkOELFqz/7X/DvVayKFyJZUAiC9I/nV39GJVYSGgEvJ3A+uPRv6Z2IrhV+BWLRDrZTlDNYQnMGS2jOYAnNGSIIHXeKgQUMFTWzbzEc8Akdxw4ssbDtFL5EhO45jlNYxyOBOFXPypdFZiEJHVsFaYQKk0aEEnEOL43fkw7eM2HPmeHdhBYZRKiEbhCzU2KpVhyVnIJAqnKXahvec8WW0GzDdopyBktozmAJzRksoTlD6oSmpLfWtx7i5In6luselVtOj3u7RAMouZHHkJgg/D4V3/DDnFCpgS7VSH0hrQVmYZ3+NkhDLY5WnEYF1lpvJZMcZj6ySpYU0BupKLnf2mKGwNSEqM790Q+PfnqLLKpzrju/SO4MuDTr/4jPT5yQ36AgB05u5Y/4IPOlsij9YA7vg7ULcr33qHjEtOv+6NFiq7t+n+dPxyelHGKYEerpqWPfIA104Ve7UGOItSlWU/GwRwosWyq9VexJEsmOw2jgQIL6HZmwlMDVR4v1+2QpE/zopkeoB0UohYSl9rd8WR1YoN8nTnM51u6e/fKOKuIt7up9fvgAhlrP7qiEblDBJL5IL13YJhOcEX/QWz1ild7qEzseTh2VgEQkCoVHaHSFCoBQBFIEaH8wl3eaPiGnyqL+/qbnru3JWlAM+9z1+7zwCkOvZ/e8U1SRJdWiT+g5oRb9hSU0Z8gSodwGW3SHNAmttOlP8DQOustqxmb2ybN35Z0Xbrxd37I1vEUM0iKU+8DAHrRS7uHKzu4Tv81kVArfwyNB9yMloV44zadxeItIpE8okyGn4UCIUmeIBlWhxhCKEIBxeItIpF3lEkHM0J7jPKhh+MhpjK06hbedwjo5FV/XVebNScLJc3yPcJpP0/AWMchIpwiDThZpICOEWqQFS2jOMAyEWv20A6TdKToAnh5584q4/u5F6us+e07cDJizT5IbmYCJfqpg9VONtAhV6sfCNv3dK6xzp7UimWD1w9cvPbXj+rfxgaYbQlx945xnXn9Xdn7V+wjMZyfvPdxImVBK5QeYYdNzLJ4+6U2n6YSf/QxRKEvj1Wu+CWKhoXqEKn3G+L2HHalXuTKZsWSBl9orfVLrl7pqvPom9FBUrbcm5ZfilIkS+sxbsJDvU3yavtci3U6RTu7UoPTT1N+bX6RLqMXAYQnNGXpIaHhbYhxuTl6RN9ff5bZUP2tzVrWx2vTB65sCMIsv70iPUOqeUHs3turMfNSZ2aVWr/Cl4uurzidrlM5kyyZYoNaQ1A7pG1DzojevoJNL0POk0mR1RvV+pQcdUvLZeXw5RzqEUgLK0qK3I2qT9UfqoGpTLwNlz3K5pCSOZ1+4TEYQ6umpf6/jIbC+kiC+nCPVEortiBvUJUURkdsScY+hAW3qZaABrVETqApgC6FXf0FkQ0dVpoqH2OFOb4L4co5etKEyrRl6Wiz16bFAHH2Jb2jQw06RxSBgCc0ZLKE5Q88J5f6mBnarwaRecUptnNoGiD1JvCntYIR30URsI1zekdvbwraxaO9PvV9uwqL3BuJr1aPTQXqEsqantxUSj3KZHvUuNYWsL+49qMF9YZv0RPiT2xLhHdsPPa2i822HpSb2HGG/6HFOsJZthNPuRIl3pamtbfK9/jZCDQT48WWOgP3pcCpe4o/Ml8ree7U/xMevl7973+8rTcgNc358ks/U9eN0CPX0UO5xQi8kdZ6A3xrSF/WyTO6FkjoBK9klVdsPNfSuME45g22H2GF2HAmswrVsI5SWDLnrTL23FewLW+O0PxVOx+ttY/TeK/1Vz+P2RFnHv+/3aUJ9ePN+6erHqZZQqlwVYWOrMH1Ctb7oEwrioS/SM3Ppy8dQCWO67VCmFiUyJW91jvy0biNsIVS/txXLH5LX41wUQ4R68cLENkbvvcof4sOP0BmqFezLywQEpWulrh/3s1MU1B0PO3qWFv0k1KIPsITmDJbQnKHnhPZHD2W14aehfqSZHumpHfvB+mh/9FTqk4+USZN6GIwvmZ6aHqGD1UNVn3Sa0oRUxflFRZRUN6jnyQEooArv6Zc6pNJLA8fcSH3U1xsltL3OCCnpqaT2TE+gF+zHl1BPTYfQweuhQIlS9PTm9PwrXFIVxZ6qUP0ypZMOL1/OkP5UPDpedpX6aAgBe/V++R793qR66vLlv7tz6guhGsbX4zrSU1MtoQPUQz8AW5Rq9f95p/4TCusluNIXQSdS2wsviSDIBFfx6HgD+mgIPdNTT31+s/qToH1SPbWfnSKrh5ojcVr1k1CLPsASmjMkIZR7MhbZRCeEdrC9b18nR8HuQek1TAmVfVi+k+ojeqnOVPAQR6mWqGNoPELldj8eXpANferzCxZBdEyo3A6mj0z19EiPUGX6hEpTbQckWEJ7ik6rXL29j1ekU4mDKUnFSFDhbXUMjfyED5dilROwONZWub1Hh50iHtTpHGAX9Fr0HB0SapF1WEJzBktoztBpp+hA6N5tl6jOTdS3MFg+ETlI3jHU+/LfKTMlVKktXeifEiVMBhJJ//BZIaabmOGov79ZavJsBKa/NJY/KFe/ismKaTXPqGYtdHgO679HTJM9AkyTXf0FClDfml+s/5P3Xu99eVebOiS0C/1TQk9PYbqL7vW0mD+PGAGes9KEyvA8JRl4DxNHN968o5qjinivJdQDqtyE+qdGyXWb9S2X9waMfNf9wZz7sL41gfXuVBJ54jkMrJd2R8rSlBPbMjxmlP83cSbfQyX8u3K+WE1US/9EdMt7bZXbHXqof3pVMSP8dJjRW0It+g5LaM7QJ0Ir+ytedYyNj3bLFiPCW0QiPUKpGzSFRlMux9yTjae3rJNUmj30LtkX4B1jo22YT/PwFtFIh1B/GadejoleLrq50EGhzlQKb3tEgDF5jE0gnNZzDMOrW4tWpFpCoRJIXsABf1Vf66f47gqXNL+E+SWUw6k61Ty8RRSy0ikKjiZZdIGsEGqREiyhOYMlNGcYGKG31FmN+tjU1mNVfSTbVndYkR6h0BBJDVFfxccoLnVOtT7p6ZfwpQKI2YvBY1PDhzbK98EEn52991AjHUJ9fZJUDEyxkXYByI/bSbUENEhIPfLqmzhcUx+fGiZ0v35q/t5DjlRLKBJYfhVfbyf09EnFi6dH3lRfJvSPTY0ooRxO6TOG7z30SL0NTfmr+J5+ar+2b4aBdYosegNLaM5gCc0Zekio0Wc3rr6pPo1109NHw5/1sJ/36AzpESo1QWiMOL6GFESjz26oKRfWSfG5Qm1q/dTXU3UIyWen8RwapEOopzfq42u0qT+3oc3Iz26c/Vf0h0riyf9ORVWZWj+Vpv28hzFSLaEJPvNx6wpxqOpUqY9K037eIyF60YYG5jb19sOE2xD3Izhv2st4hhY97BRZDAKW0JzBEjp4YGA6NaRJqMl2QzWWnlpbp7YJVn9yX4gTnw/ujZGbm0yhty8G0XYHlUbwHPk20O/Hb5QHC3rx4ViZ9PbcpEWo6oPqbYV8tob8mj1TqHulYo/syH1hm0zulZIrz4B5X7uX6HDbYfV8/c7xJiWu3l6oCdXPvBmN3GEbPHxRu/vbDRnY1abOxVUZo2V74vGHZI7QQ/jUTW87o/79Gvr9J8onyiDUjw98Ain1x1MnlDiBfujXIiG9UbvLErrX4NqGH1TR1ehw22H1PKg5van9Ezg5/Wd6mU573j/a6h4G8897Fj1CQ9sT/d8RJrT1GNV9gNMP+L0K+liZrBEKUJVLv0puK8TKArWkgNV6six+k4gm3ol7widWWQC9LRGWgVqnw22H1Tl3BIcO835DbC/U2w+97YaUvHzYqQoe4R4GDkT+6c78K8rf/u2JMPm1fKCx9z61ndH7/S04jj2PMkNJKD6zV+UeBCKUiRsUKCUjaBs40teb+0WoRZ9gCc0ZkhCaqt5kkS46IVTpmbqf3R4tvVaF9Bp/i2iYEqrVEsWnPV41q+iYUNnP7uJ4G0toT9Fplav14ITH29gqt9fosFOUUG/SwwwWPUeHhFpkHZbQnCF1QgMzJt1Af6UPQ6b7h0TjEfE1wcMFc0Kpe0Ptp14eCbOwTn8be+gV6eNnuLF0GjCxze8j3jZA9ZKOvzrIBzeWmsp/fHjl7oWTv/YQwoxQb5mmXh65X11BjzakrkgSyU6rOAw9raRmJfS0GD8SUx6hGjyNQY/Kf1x4zz2IQ7m9sKMSukEFk/ji9a9kqgEFLKP0iEWVyxqKJlZuA/SgCMFUI74G6BES99lUebSq5z8uvOeucWi13Z53iuw2wP6i54Ra9BeW0JzBEpoz9InQiONRz36O9xHq7YM+WrcLBmGPWT0I6RHKmp/SPw8+HlWefCK3Ec7yyUTahfk0fo9FC9Ih1NNTff0TAwzQXpR+2no86uzkFSb17N8I8Sc3AuG1vmP4HnVroZFqCcXUmOQDad/+eNRbF70NvvIgGx1e1amm77EII2udIs2nRUJkjVCLLmEJzRksoTnDwAi1x6v2BukRCs2Q1A97vOpgkQ6hvh5JqgXmP0mrAOzxqn1HqiUUCWyPVx0sUm9D7fGqg8XAOkUWvYElNGcYRkLRgFrEIE1CW4+1aZPw3h6X2SdlJwidJJ5Gm+XDVsXZZ89xZ0mbQNx2RpN4Dg3SIlT1SZGAOL4G2wfHVmF+kXQNHF8jTb0Nkbzqfqnq1V5/dxId37N//ebkZ0iVCZ/GeU6/n8B8JojnkCBlQvXxNdrkzU287FOagTW6LYQSeDoNrP7VDXkS5zWp0sD0CJXb3xLEc0iQdpU7Jo+vgYkDin++/fFtKJALyqTEdjDE41WF/B1RIpEKKJdQvkEVe0sNCWqTENzO2Gk8hwZpd4oogf2ND95T2LYLcAkEehzP8CJtQi0GDEtozmAJzR7aqGEHI+1O0UFQY+leW9gt9DGlfDpm1OFv3uGKYeCoxbgNUkCfjluV5zueKgfjg16WvDOXFqFarRjQ8aoyYQje8aYgDP5UAvvHrkrAPXgMqz4utc/HrVYfvfKHv/sKZRQ/Pj1uklDdSp1Q4gT6oV9rMKFaX9TusoSmeLzqI2nvHW8K8KmXMoH1ezxQ4srjOWUye8em9vu41dN/2yz9FntS0HrZoAkFqMqlXzGI41UJ6rhTvfHX80ZvgSnf4zFFtlSspr3jU73wLf48YId4D45b5ZKNUqyh+Bx8lXsQrIZohO77Fv0i1KJPsITmDD0nlI9t1MCpKTCpAu62alHwjrE57rrzv+e3fdRo7W+wyBc6ohJhpSXiOBzVq22n3ATR3p96P/0sAr03EF+6y1TTI5S6NVPUL1Lb/vRyS/SS4EoU8tcE9x7U5CD6J9nkTpHsO8nlmAqxx9egk0HpIROGXfgYG9mbBKhzgnD0Cplc/OyHP/X7OJ7eJ1y+H50peRyOBuL5MXVdtb9pl7pkfvwyA72Ec+4JsjMViM/7/a2/k36V7BD78Uk+OfXSQDqEEl0ql6ltf8QjgN8Yr7Ys1TYCaku4y6S7+aqX6J12wgm4//gbrREE1JaQ2qDDS92T9RJJuHp/K+LUFB2/qZrS+js9Qn34+loqy1BTLaFUuSrC9HJLsucf7A8saEJBfGhgAd58qARBmlJm9giNrdhgv7wjBx5kkkki1LNPKBUvqcFLAtT7W8Gn6QS/76KzjI5fx4cIpEIbik///n1gX14mIKhljQm1zv3oZ6fIbhXcj9TTpJ+EWvQBltCcwRKaMyQg1ExvSumYVYsOYU6o1pQkn7wIi3rZUo/EgIHZMaup6VsW0TAj1NczlX7ByySTHrNqt/31EB2VUAziyX42F1NeB0smOCP+jI5ZTU3fsohGp21oYr3JbgfsDxJ0iiyyDEtozmAJzRkiCNV65nhozYjVK4cDPqFhPZMUyMKX0GsldZL6QVqv1M+eb4uMQRK6T8/05i+JOKWuSA/eM8HqkxlEqIT6eiZWE0KvlJzCXuqV3rPVJzOK1jY09fk5i/4iolNkMcywhOYMltCcwRKaMxChH7tnkR/c+9f/H//O7V1IpDMQAAAAAElFTkSuQmCC)"
      ]
    },
    {
      "cell_type": "markdown",
      "metadata": {
        "id": "anV15Fz8z5ZR"
      },
      "source": [
        "Сначала парсим весь документ, кладем всё дерево в переменную tree, а в переменную root - корень этого дерева."
      ]
    },
    {
      "cell_type": "code",
      "execution_count": null,
      "metadata": {
        "colab": {
          "base_uri": "https://localhost:8080/"
        },
        "id": "IijkFIMXz5ZT",
        "outputId": "0af6c2c0-7262-447d-9ab6-854cec45c29c"
      },
      "outputs": [
        {
          "output_type": "stream",
          "name": "stdout",
          "text": [
            "data {}\n"
          ]
        }
      ],
      "source": [
        "tree = ET.parse('./example.xml')\n",
        "root = tree.getroot()\n",
        "print (root.tag, root.attrib)"
      ]
    },
    {
      "cell_type": "markdown",
      "metadata": {
        "id": "YJTtCV9Gz5ZV"
      },
      "source": [
        "Перебор всех дочерних элементов корневого узла:"
      ]
    },
    {
      "cell_type": "code",
      "execution_count": null,
      "metadata": {
        "colab": {
          "base_uri": "https://localhost:8080/"
        },
        "id": "giwo0fuSz5ZW",
        "outputId": "476402f5-3ccd-44a5-94a9-2df3f05f8551"
      },
      "outputs": [
        {
          "output_type": "stream",
          "name": "stdout",
          "text": [
            "country {'name': 'Liechtenstein'}\n",
            "Liechtenstein\n",
            "country {'name': 'Singapore'}\n",
            "Singapore\n",
            "country {'name': 'Panama'}\n",
            "Panama\n"
          ]
        }
      ],
      "source": [
        "for child in root:\n",
        "    print (child.tag, child.attrib)\n",
        "    # Выводим значение каждого атрибута:\n",
        "    for value in child.attrib:\n",
        "        print (child.attrib[value])\n",
        "    # или:\n",
        "    #value = child.get('name') # получаем значение атрибута name\n",
        "    #print (value)"
      ]
    },
    {
      "cell_type": "markdown",
      "metadata": {
        "id": "oYX224WPz5ZY"
      },
      "source": [
        "Поиск по всему дереву:"
      ]
    },
    {
      "cell_type": "code",
      "execution_count": null,
      "metadata": {
        "colab": {
          "base_uri": "https://localhost:8080/"
        },
        "id": "E3CMGe0Xz5ZZ",
        "outputId": "b0f4f39e-4591-4384-82eb-d46c4f3e398d"
      },
      "outputs": [
        {
          "output_type": "stream",
          "name": "stdout",
          "text": [
            "2008\n",
            "2011\n",
            "2011\n"
          ]
        }
      ],
      "source": [
        "for year in tree.iter('year'): # для каждого элемента дерева с тегом year\n",
        "    print (year.text) # печатаем всё, что находится между открывающим и закрывающим тегом"
      ]
    },
    {
      "cell_type": "markdown",
      "metadata": {
        "id": "axxZppjez5Zc"
      },
      "source": [
        "Поиск по непосредственным дочерним элементам узла:"
      ]
    },
    {
      "cell_type": "code",
      "execution_count": null,
      "metadata": {
        "colab": {
          "base_uri": "https://localhost:8080/"
        },
        "id": "i74yI2M5z5Zd",
        "outputId": "80243731-0b48-4485-8e8d-5251a7cb99fc"
      },
      "outputs": [
        {
          "output_type": "stream",
          "name": "stdout",
          "text": [
            "country {'name': 'Liechtenstein'}\n",
            "country {'name': 'Singapore'}\n",
            "country {'name': 'Panama'}\n"
          ]
        }
      ],
      "source": [
        "for country in tree.findall('country'): # ищем все элементы с тегом country, но только среди непосредственных дочерних элементов исходного\n",
        "    print (country.tag, country.attrib)"
      ]
    },
    {
      "cell_type": "markdown",
      "metadata": {
        "id": "ggG8Ryutz5Zf"
      },
      "source": [
        "Поиск первого подходящего варианта среди непосредственных дочерних элементов узла:"
      ]
    },
    {
      "cell_type": "code",
      "execution_count": null,
      "metadata": {
        "colab": {
          "base_uri": "https://localhost:8080/"
        },
        "id": "UdCAeQkMz5Zh",
        "outputId": "24f145df-e9d8-4ca1-dc05-3a6522839144"
      },
      "outputs": [
        {
          "output_type": "stream",
          "name": "stdout",
          "text": [
            "country {'name': 'Liechtenstein'}\n"
          ]
        }
      ],
      "source": [
        "country = root.find('country') # ищем первый элемент с тегом country, тоже только среди детей исходного элемента\n",
        "print (country.tag, country.attrib)"
      ]
    },
    {
      "cell_type": "markdown",
      "metadata": {
        "collapsed": true,
        "id": "DG5-NvqYz5Zj"
      },
      "source": [
        "## Создание XML-структуры"
      ]
    },
    {
      "cell_type": "markdown",
      "metadata": {
        "id": "MYpuv5jZz5Zj"
      },
      "source": [
        "![languages_xml.png](data:image/png;base64,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)"
      ]
    },
    {
      "cell_type": "code",
      "execution_count": null,
      "metadata": {
        "id": "QEEqiKfRz5Zk"
      },
      "outputs": [],
      "source": [
        "root = ET.Element('data')"
      ]
    },
    {
      "cell_type": "code",
      "execution_count": null,
      "metadata": {
        "collapsed": true,
        "id": "zuqB48Mmz5Zl"
      },
      "outputs": [],
      "source": [
        "languages = {'Indo-European' : [['Russian', 'Russia'], ['English', 'Great Britain']],\n",
        "            'Uralic' : [['Finnish', 'Finland']]}"
      ]
    },
    {
      "cell_type": "code",
      "execution_count": null,
      "metadata": {
        "id": "BjwWfJYhz5Zn"
      },
      "outputs": [],
      "source": [
        "for family in languages:\n",
        "    family_tag = ET.SubElement(root, 'family')\n",
        "    family_tag.attrib = {'name' : family}\n",
        "    for lang in languages[family]:\n",
        "        lang_tag = ET.SubElement(family_tag, 'language')\n",
        "        #lang_tag.tail = '\\n'\n",
        "        lang_tag.attrib = {'name' : lang[0], 'country' : lang[1]}"
      ]
    },
    {
      "cell_type": "code",
      "execution_count": null,
      "metadata": {
        "collapsed": true,
        "colab": {
          "base_uri": "https://localhost:8080/",
          "height": 17
        },
        "id": "UxIaDfZYz5Zo",
        "outputId": "a9730e27-4f55-4594-ea73-ad1101f0c968"
      },
      "outputs": [
        {
          "output_type": "display_data",
          "data": {
            "text/plain": [
              "<IPython.core.display.Javascript object>"
            ],
            "application/javascript": [
              "\n",
              "    async function download(id, filename, size) {\n",
              "      if (!google.colab.kernel.accessAllowed) {\n",
              "        return;\n",
              "      }\n",
              "      const div = document.createElement('div');\n",
              "      const label = document.createElement('label');\n",
              "      label.textContent = `Downloading \"${filename}\": `;\n",
              "      div.appendChild(label);\n",
              "      const progress = document.createElement('progress');\n",
              "      progress.max = size;\n",
              "      div.appendChild(progress);\n",
              "      document.body.appendChild(div);\n",
              "\n",
              "      const buffers = [];\n",
              "      let downloaded = 0;\n",
              "\n",
              "      const channel = await google.colab.kernel.comms.open(id);\n",
              "      // Send a message to notify the kernel that we're ready.\n",
              "      channel.send({})\n",
              "\n",
              "      for await (const message of channel.messages) {\n",
              "        // Send a message to notify the kernel that we're ready.\n",
              "        channel.send({})\n",
              "        if (message.buffers) {\n",
              "          for (const buffer of message.buffers) {\n",
              "            buffers.push(buffer);\n",
              "            downloaded += buffer.byteLength;\n",
              "            progress.value = downloaded;\n",
              "          }\n",
              "        }\n",
              "      }\n",
              "      const blob = new Blob(buffers, {type: 'application/binary'});\n",
              "      const a = document.createElement('a');\n",
              "      a.href = window.URL.createObjectURL(blob);\n",
              "      a.download = filename;\n",
              "      div.appendChild(a);\n",
              "      a.click();\n",
              "      div.remove();\n",
              "    }\n",
              "  "
            ]
          },
          "metadata": {}
        },
        {
          "output_type": "display_data",
          "data": {
            "text/plain": [
              "<IPython.core.display.Javascript object>"
            ],
            "application/javascript": [
              "download(\"download_5f2d91aa-bb3f-481b-b7d0-a3a41c640f38\", \"languages_test.txt\", 261)"
            ]
          },
          "metadata": {}
        }
      ],
      "source": [
        "tree = ET.ElementTree(root)\n",
        "tree.write('languages_test.txt', encoding = 'utf-8', xml_declaration = 'True')\n",
        "files.download('languages_test.txt')"
      ]
    },
    {
      "cell_type": "code",
      "execution_count": null,
      "metadata": {
        "collapsed": true,
        "id": "VfsnVxvwz5Zp"
      },
      "outputs": [],
      "source": []
    }
  ],
  "metadata": {
    "kernelspec": {
      "display_name": "Python 3",
      "language": "python",
      "name": "python3"
    },
    "language_info": {
      "codemirror_mode": {
        "name": "ipython",
        "version": 3
      },
      "file_extension": ".py",
      "mimetype": "text/x-python",
      "name": "python",
      "nbconvert_exporter": "python",
      "pygments_lexer": "ipython3",
      "version": "3.6.0"
    },
    "colab": {
      "provenance": []
    }
  },
  "nbformat": 4,
  "nbformat_minor": 0
}