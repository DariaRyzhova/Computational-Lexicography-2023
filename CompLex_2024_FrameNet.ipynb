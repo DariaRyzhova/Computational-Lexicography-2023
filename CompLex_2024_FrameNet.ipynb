{
  "nbformat": 4,
  "nbformat_minor": 0,
  "metadata": {
    "kernelspec": {
      "display_name": "Python 3",
      "language": "python",
      "name": "python3"
    },
    "language_info": {
      "codemirror_mode": {
        "name": "ipython",
        "version": 3
      },
      "file_extension": ".py",
      "mimetype": "text/x-python",
      "name": "python",
      "nbconvert_exporter": "python",
      "pygments_lexer": "ipython3",
      "version": "3.6.0"
    },
    "colab": {
      "provenance": []
    }
  },
  "cells": [
    {
      "cell_type": "markdown",
      "metadata": {
        "collapsed": true,
        "id": "HAlCrf7uRLHj"
      },
      "source": [
        "# FrameNet"
      ]
    },
    {
      "cell_type": "markdown",
      "metadata": {
        "id": "eTD1D3TPRLHk"
      },
      "source": [
        "Главный сайт проекта: https://framenet2.icsi.berkeley.edu <br>\n",
        "FrameNet через nltk: http://www.nltk.org/howto/framenet.html"
      ]
    },
    {
      "cell_type": "code",
      "metadata": {
        "id": "gi0_Mi7hRLHk",
        "colab": {
          "base_uri": "https://localhost:8080/"
        },
        "outputId": "7fcd96ef-9dcf-4c4d-b49e-ec8cd7b7eb58"
      },
      "source": [
        "import nltk\n",
        "nltk.download('framenet_v17')"
      ],
      "execution_count": 1,
      "outputs": [
        {
          "output_type": "stream",
          "name": "stderr",
          "text": [
            "[nltk_data] Downloading package framenet_v17 to /root/nltk_data...\n",
            "[nltk_data]   Unzipping corpora/framenet_v17.zip.\n"
          ]
        },
        {
          "output_type": "execute_result",
          "data": {
            "text/plain": [
              "True"
            ]
          },
          "metadata": {},
          "execution_count": 1
        }
      ]
    },
    {
      "cell_type": "code",
      "metadata": {
        "collapsed": true,
        "id": "RI4TCnXnRLHl"
      },
      "source": [
        "from nltk.corpus import framenet as fn"
      ],
      "execution_count": 2,
      "outputs": []
    },
    {
      "cell_type": "markdown",
      "metadata": {
        "id": "2-Om5AbCRLHn"
      },
      "source": [
        "Все фреймы:"
      ]
    },
    {
      "cell_type": "code",
      "metadata": {
        "id": "1mU6jtINRLHn",
        "colab": {
          "base_uri": "https://localhost:8080/"
        },
        "outputId": "58529758-e93c-47d2-a675-b3bf02de6916"
      },
      "source": [
        "print (fn.frames(), len(fn.frames()))"
      ],
      "execution_count": null,
      "outputs": [
        {
          "output_type": "stream",
          "name": "stdout",
          "text": [
            "[<frame ID=2031 name=Abandonment>, <frame ID=262 name=Abounding_with>, ...] 1221\n"
          ]
        }
      ]
    },
    {
      "cell_type": "markdown",
      "metadata": {
        "id": "8nuOHzHfRLHo"
      },
      "source": [
        "Все фреймы, в которых есть подстрока 'event':"
      ]
    },
    {
      "cell_type": "code",
      "metadata": {
        "id": "ZxCWPMFKRLHp",
        "colab": {
          "base_uri": "https://localhost:8080/"
        },
        "outputId": "c1ed5d82-62c4-4582-85d7-45ece43cfc3a"
      },
      "source": [
        "for frame in fn.frames('event'):\n",
        "    print (frame.name)"
      ],
      "execution_count": 3,
      "outputs": [
        {
          "output_type": "stream",
          "name": "stdout",
          "text": [
            "Change_event_duration\n",
            "Change_event_time\n",
            "Desirable_event\n",
            "Historic_event\n",
            "Locale_by_event\n",
            "Prevent_or_allow_possession\n",
            "Preventing_or_letting\n",
            "Required_event\n",
            "Social_event\n",
            "Social_event_collective\n",
            "Social_event_individuals\n"
          ]
        }
      ]
    },
    {
      "cell_type": "markdown",
      "metadata": {
        "id": "McgM7xEcRLHq"
      },
      "source": [
        "Все слова:"
      ]
    },
    {
      "cell_type": "code",
      "metadata": {
        "id": "9oklnAbaRLHr",
        "colab": {
          "base_uri": "https://localhost:8080/"
        },
        "outputId": "0965a747-884b-4bbd-dc6c-bf07b17474f0"
      },
      "source": [
        "print (fn.lus(), len(fn.lus()))"
      ],
      "execution_count": null,
      "outputs": [
        {
          "output_type": "stream",
          "name": "stdout",
          "text": [
            "[<lu ID=16601 name=(can't) help.v>, <lu ID=14632 name=(in/out of) line.n>, ...] 13572\n"
          ]
        }
      ]
    },
    {
      "cell_type": "code",
      "source": [
        "for lexeme in fn.lus('hide'):\n",
        "  print (lexeme)"
      ],
      "metadata": {
        "colab": {
          "base_uri": "https://localhost:8080/"
        },
        "id": "Md4ozj8lIiWJ",
        "outputId": "1767c9b5-ae88-43c5-8ffc-13b408e15e48"
      },
      "execution_count": null,
      "outputs": [
        {
          "output_type": "stream",
          "name": "stdout",
          "text": [
            "lexical unit (8953): chide.v\n",
            "\n",
            "[definition]\n",
            "  COD: scold or rebuke.\n",
            "\n",
            "[frame] Judgment_direct_address(711)\n",
            "\n",
            "[POS] V\n",
            "\n",
            "[status] FN1_Sent\n",
            "\n",
            "[lexemes] chide/V\n",
            "\n",
            "[semTypes] 1 semantic types\n",
            "  Negative_judgment(14)\n",
            "\n",
            "[URL] https://framenet2.icsi.berkeley.edu/fnReports/data/lu/lu8953.xml\n",
            "\n",
            "[subCorpus] 17 subcorpora\n",
            "  V-coordpass, V-intrans-simple, V-np-pingabout, V-np-pingon,\n",
            "  V-np-ppabout, V-np-ppfor, V-np-ppon, V-np-ppother, V-np-\n",
            "  ppover, V-np-pwhabout, V-pingabout, V-ppon, V-ppover,\n",
            "  V-sfin, V-surepass, V-that-sfin, V-trans-simple\n",
            "\n",
            "[exemplars] 35 sentences across all subcorpora\n",
            "\n",
            "lexical unit (8534): hide.v\n",
            "\n",
            "[definition]\n",
            "  FN: be in a state of obstructing an object from view\n",
            "\n",
            "[frame] Eclipse(652)\n",
            "\n",
            "[POS] V\n",
            "\n",
            "[status] Finished_Initial\n",
            "\n",
            "[lexemes] hide/V\n",
            "\n",
            "[semTypes] 1 semantic types\n",
            "  Visual_modality(94)\n",
            "\n",
            "[URL] https://framenet2.icsi.berkeley.edu/fnReports/data/lu/lu8534.xml\n",
            "\n",
            "[subCorpus] 10 subcorpora\n",
            "  01-NPtree,bush,screen-T-(2), 02-NPhouse,hedge,hill-T-(2),\n",
            "  03-T-NPtree,bush,screen-(2), 04-T-NPhouse,hedge,hill-(2),\n",
            "  05-T-Wview,sight-(2), 06-Wcompletely,half,totally-T-(2),\n",
            "  07-T-NP-PPfrom-(2), 08-T-PP-PPby-(2), other-matched-(2),\n",
            "  other-unmatched-(2)\n",
            "\n",
            "[exemplars] 25 sentences across all subcorpora\n",
            "\n",
            "lexical unit (13036): hide.v\n",
            "\n",
            "[definition]\n",
            "  COD:  put or keep out of sight.\n",
            "\n",
            "[frame] Hiding_objects(1673)\n",
            "\n",
            "[POS] V\n",
            "\n",
            "[status] Finished_Initial\n",
            "\n",
            "[lexemes] hide/V\n",
            "\n",
            "[semTypes] 0 semantic types\n",
            "\n",
            "[URL] https://framenet2.icsi.berkeley.edu/fnReports/data/lu/lu13036.xml\n",
            "\n",
            "[subCorpus] 13 subcorpora\n",
            "  01-Wface,gun,body-(1), 02-NP-T-NP-PPunder,in-(1), 03-NP-T-\n",
            "  NP-PPbehind,from-(1), 04-NP-T-NP-Wfor,up,down-(1),\n",
            "  05-T-Wwell,deep,partially-(1),\n",
            "  06-T-Wsomewhere,here,inside-(1),\n",
            "  07-T-Waway,carefully,safely-(1), 08-Wso,order,because-(1),\n",
            "  09-NP-T-NP-PP-(1), 10-NP-T-NP-(1), manually-added, other-\n",
            "  matched-(1), other-unmatched-(1)\n",
            "\n",
            "[exemplars] 21 sentences across all subcorpora\n",
            "\n",
            "lexical unit (17286): hideous.a\n",
            "\n",
            "[definition]\n",
            "  FN: very unpleasent to look at\n",
            "\n",
            "[frame] Aesthetics(1016)\n",
            "\n",
            "[POS] A\n",
            "\n",
            "[status] Created\n",
            "\n",
            "[lexemes] hideous/A\n",
            "\n",
            "[semTypes] 0 semantic types\n",
            "\n",
            "[URL] https://framenet2.icsi.berkeley.edu/fnReports/data/lu/lu17286.xml\n",
            "\n",
            "[subCorpus] 1 subcorpora\n",
            "  manually-added\n",
            "\n",
            "[exemplars] 1 sentences across all subcorpora\n",
            "\n"
          ]
        }
      ]
    },
    {
      "cell_type": "markdown",
      "metadata": {
        "id": "LAHJy9plRLHs"
      },
      "source": [
        "Каждый фрейм - это словарь. Заглянем внутрь фрейма Hiding_objects:"
      ]
    },
    {
      "cell_type": "code",
      "metadata": {
        "id": "o4XnPUkPRLHt",
        "colab": {
          "base_uri": "https://localhost:8080/"
        },
        "outputId": "27d790a1-7169-47ee-9313-c029db5d4ce8"
      },
      "source": [
        "frame_example = fn.frame('Hiding_objects')\n",
        "print (frame_example)"
      ],
      "execution_count": 4,
      "outputs": [
        {
          "output_type": "stream",
          "name": "stdout",
          "text": [
            "frame (1673): Hiding_objects\n",
            "\n",
            "[URL] https://framenet2.icsi.berkeley.edu/fnReports/data/frame/Hiding_objects.xml\n",
            "\n",
            "[definition]\n",
            "  An Agent causes a Hidden_object to become perceptually\n",
            "  inaccessible to potential perceivers by placing it in a\n",
            "  Hiding_place or putting in place an Obstruction that screens the\n",
            "  object.  'Therefore, as I passed the school, I hid the gun and\n",
            "  holster in the mailbox'  'Gruenwald hid the money at a local\n",
            "  garbage dump then retrieved it the following morning.'  'In later\n",
            "  books Harry often tries to hide his scar with his hair. '\n",
            "\n",
            "[semTypes] 0 semantic types\n",
            "\n",
            "[frameRelations] 2 frame relations\n",
            "  <Parent=Intentionally_affect -- Inheritance -> Child=Hiding_objects>\n",
            "  <Causative=Hiding_objects -- Causative_of -> Inchoative/state=Eclipse>\n",
            "\n",
            "[lexUnit] 7 lexical units\n",
            "  block.v (17563), camouflage.v (15241), conceal.v (13037), cover.v\n",
            "  (17564), hide.v (13036), mask.v (13038), shroud.v (13039)\n",
            "\n",
            "\n",
            "[FE] 12 frame elements\n",
            "            Core: Agent (9540), Hidden_object (9536), Hiding_place (9541)\n",
            "      Peripheral: Degree (9538), Manner (9673), Means (9671), Obstruction (9535), Place (9542), Purpose (9672), Time (9543)\n",
            "  Extra-Thematic: Explanation (9544), Potential_observer (9537)\n",
            "\n",
            "[FEcoreSets] 0 frame element core sets\n",
            "  \n",
            "\n"
          ]
        }
      ]
    },
    {
      "cell_type": "markdown",
      "metadata": {
        "id": "ER_2p6SeRLHt"
      },
      "source": [
        "FE и lexUnit - тоже словари:"
      ]
    },
    {
      "cell_type": "code",
      "metadata": {
        "id": "K7JNOgLlRLHu",
        "colab": {
          "base_uri": "https://localhost:8080/"
        },
        "outputId": "8248f0ba-349f-479a-f091-f8f7ca931508"
      },
      "source": [
        "print (frame_example.FE)"
      ],
      "execution_count": null,
      "outputs": [
        {
          "output_type": "stream",
          "name": "stdout",
          "text": [
            "[Obstruction] frame element (9535): Obstruction\n",
            "    of Hiding_objects(1673)\n",
            "[definition]\n",
            "  The entity that the Agent uses to block the Hidden_object from\n",
            "  being perceptible.   'She shrouded the tub with fabric featuring\n",
            "  birds and flowers. '\n",
            "[abbrev] obs\n",
            "[coreType] Peripheral\n",
            "[requiresFE] <None>\n",
            "[excludesFE] <None>\n",
            "[semType] \n",
            "  Physical_entity(70)\n",
            "\n",
            "[Hidden_object] frame element (9536): Hidden_object\n",
            "    of Hiding_objects(1673)\n",
            "[definition]\n",
            "  The Hidden_object is the entity which is blocked from view.\n",
            "  'Michael Jackson gave wine to the 13-year-old cancer patient at\n",
            "  the center of the molestation charges he's battling but concealed\n",
            "  it inside a Coke can.'\n",
            "[abbrev] hio\n",
            "[coreType] Core\n",
            "[requiresFE] <None>\n",
            "[excludesFE] <None>\n",
            "[semType] <None>\n",
            "\n",
            "[Potential_observer] frame element (9537): Potential_observer\n",
            "    of Hiding_objects(1673)\n",
            "[definition]\n",
            "  The Potential_observer denotes a person who might perceive the\n",
            "  Hidden_object if it was not hidden.   'The wife claims she hid\n",
            "  the gun from him but retrieved it after he became abusive.'\n",
            "  Phrases such as \"from view\" and \"from sight\" are assumed to\n",
            "  indicate that the Hidden_object is not visible to any\n",
            "  Potential_observer.   ''He hid the motorbike from view under a\n",
            "  few nearby bushes.\n",
            "[abbrev] poo\n",
            "[coreType] Extra-Thematic\n",
            "[requiresFE] <None>\n",
            "[excludesFE] <None>\n",
            "[semType] <None>\n",
            "\n",
            "[Degree] frame element (9538): Degree\n",
            "    of Hiding_objects(1673)\n",
            "[definition]\n",
            "  The extent to which the Hidden_object becomes perceptually\n",
            "  inaccessible.\n",
            "[abbrev] Degree\n",
            "[coreType] Peripheral\n",
            "[requiresFE] <None>\n",
            "[excludesFE] <None>\n",
            "[semType] \n",
            "  Degree(172)\n",
            "\n",
            "[Agent] frame element (9540): Agent\n",
            "    of Hiding_objects(1673)\n",
            "[definition]\n",
            "  The Agent is the person who causes the Hidden_entity to be not\n",
            "  perceptually accessible to potential perceivers.  'The deputy\n",
            "  concealed the bayonet under his coat.'\n",
            "[abbrev] age\n",
            "[coreType] Core\n",
            "[requiresFE] <None>\n",
            "[excludesFE] <None>\n",
            "[semType] \n",
            "  Sentient(5)\n",
            "\n",
            "[Hiding_place] frame element (9541): Hiding_place\n",
            "    of Hiding_objects(1673)\n",
            "[definition]\n",
            "  The location in which the Hidden_object is placed so as not to be\n",
            "  perceptually accessible.   'He had concealed the necklace behind\n",
            "  him.'\n",
            "[abbrev] hid\n",
            "[coreType] Core\n",
            "[requiresFE] <None>\n",
            "[excludesFE] <None>\n",
            "[semType] <None>\n",
            "\n",
            "[Place] frame element (9542): Place\n",
            "    of Hiding_objects(1673)\n",
            "[definition]\n",
            "  The Place is the spatial setting in which the hiding event takes\n",
            "  place.\n",
            "[abbrev] pla\n",
            "[coreType] Peripheral\n",
            "[requiresFE] <None>\n",
            "[excludesFE] <None>\n",
            "[semType] \n",
            "  Locative_relation(182)\n",
            "\n",
            "[Time] frame element (9543): Time\n",
            "    of Hiding_objects(1673)\n",
            "[definition]\n",
            "  Time denotes the interval of time during which the Agent causes\n",
            "  the Hidden_object to become hidden from perceptual access.\n",
            "[abbrev] tim\n",
            "[coreType] Peripheral\n",
            "[requiresFE] <None>\n",
            "[excludesFE] <None>\n",
            "[semType] \n",
            "  Time(141)\n",
            "\n",
            "[Explanation] frame element (9544): Explanation\n",
            "    of Hiding_objects(1673)\n",
            "[definition]\n",
            "  The Explanation denotes a proposition from which the occurrence\n",
            "  of the hiding event logically follows.\n",
            "[abbrev] \n",
            "[coreType] Extra-Thematic\n",
            "[requiresFE] <None>\n",
            "[excludesFE] <None>\n",
            "[semType] \n",
            "  State_of_affairs(177)\n",
            "\n",
            "[Means] frame element (9671): Means\n",
            "    of Hiding_objects(1673)\n",
            "[definition]\n",
            "  An action of the Agent that brings about the hiding of the\n",
            "  Hidden_object.\n",
            "[abbrev] mea\n",
            "[coreType] Peripheral\n",
            "[requiresFE] <None>\n",
            "[excludesFE] <None>\n",
            "[semType] \n",
            "  State_of_affairs(177)\n",
            "\n",
            "[Purpose] frame element (9672): Purpose\n",
            "    of Hiding_objects(1673)\n",
            "[definition]\n",
            "  The state-of-affairs that the Agent hopes to bring about by\n",
            "  hiding the Hidden_object.\n",
            "[abbrev] pur\n",
            "[coreType] Peripheral\n",
            "[requiresFE] <None>\n",
            "[excludesFE] <None>\n",
            "[semType] \n",
            "  State_of_affairs(177)\n",
            "\n",
            "[Manner] frame element (9673): Manner\n",
            "    of Hiding_objects(1673)\n",
            "[definition]\n",
            "  Any description of the intentional act which is not covered by\n",
            "  more specific FEs, including secondary effects (quietly, loudly),\n",
            "  and general descriptions comparing events (the same way). In\n",
            "  addition, it may indicate salient characteristics of an Agent\n",
            "  that also affect the action (presumptuously, coldly,\n",
            "  deliberately, eagerly, carefully).\n",
            "[abbrev] man\n",
            "[coreType] Peripheral\n",
            "[requiresFE] <None>\n",
            "[excludesFE] <None>\n",
            "[semType] \n",
            "  Manner(173)\n",
            "\n",
            "\n"
          ]
        }
      ]
    },
    {
      "cell_type": "markdown",
      "metadata": {
        "id": "0b_5EMhgRLHu"
      },
      "source": [
        "Способы обратиться к элементам фрейма (FE):"
      ]
    },
    {
      "cell_type": "code",
      "metadata": {
        "id": "7W_tnUO7RLHv",
        "colab": {
          "base_uri": "https://localhost:8080/"
        },
        "outputId": "fcea47cb-ecef-414c-e342-aed4cfa91da3"
      },
      "source": [
        "print (frame_example.FE.Obstruction.definition)\n",
        "# Или: print (frame_HistEvent['FE']['Obstruction']['definition'])"
      ],
      "execution_count": null,
      "outputs": [
        {
          "output_type": "stream",
          "name": "stdout",
          "text": [
            "The entity that the Agent uses to block the Hidden_object from being perceptible.   'She shrouded the tub with fabric featuring birds and flowers. '\n"
          ]
        }
      ]
    },
    {
      "cell_type": "markdown",
      "metadata": {
        "id": "MkhIiZu_RLHv"
      },
      "source": [
        "В словарях лексических юнитов скрываются размеченные примеры:"
      ]
    },
    {
      "cell_type": "code",
      "metadata": {
        "id": "1ATVQUF-RLHw",
        "colab": {
          "base_uri": "https://localhost:8080/"
        },
        "outputId": "bbfb6074-d6db-4fde-a849-75415ea8effb"
      },
      "source": [
        "lexeme = frame_example.lexUnit['hide.v']\n",
        "# то же самое (по ID):\n",
        "# historic = fn.lu(13036))\n",
        "print (lexeme)"
      ],
      "execution_count": null,
      "outputs": [
        {
          "output_type": "stream",
          "name": "stdout",
          "text": [
            "lexical unit (13036): hide.v\n",
            "\n",
            "[definition]\n",
            "  COD:  put or keep out of sight.\n",
            "\n",
            "[frame] Hiding_objects(1673)\n",
            "\n",
            "[POS] V\n",
            "\n",
            "[status] Finished_Initial\n",
            "\n",
            "[lexemes] hide/V\n",
            "\n",
            "[semTypes] 0 semantic types\n",
            "\n",
            "[URL] https://framenet2.icsi.berkeley.edu/fnReports/data/lu/lu13036.xml\n",
            "\n",
            "[subCorpus] 13 subcorpora\n",
            "  01-Wface,gun,body-(1), 02-NP-T-NP-PPunder,in-(1), 03-NP-T-\n",
            "  NP-PPbehind,from-(1), 04-NP-T-NP-Wfor,up,down-(1),\n",
            "  05-T-Wwell,deep,partially-(1),\n",
            "  06-T-Wsomewhere,here,inside-(1),\n",
            "  07-T-Waway,carefully,safely-(1), 08-Wso,order,because-(1),\n",
            "  09-NP-T-NP-PP-(1), 10-NP-T-NP-(1), manually-added, other-\n",
            "  matched-(1), other-unmatched-(1)\n",
            "\n",
            "[exemplars] 21 sentences across all subcorpora\n",
            "\n"
          ]
        }
      ]
    },
    {
      "cell_type": "code",
      "metadata": {
        "id": "4H4gKDg8RLHx",
        "colab": {
          "base_uri": "https://localhost:8080/"
        },
        "outputId": "46a98eca-a7be-438d-e147-0a220a4385c0"
      },
      "source": [
        "for exemplar in lexeme.exemplars[:5]:\n",
        "  #print (exemplar)\n",
        "  print (exemplar.text, exemplar.FE)"
      ],
      "execution_count": null,
      "outputs": [
        {
          "output_type": "stream",
          "name": "stdout",
          "text": [
            "Rozanov removed his parka then hid his face behind the Guardian . ([(0, 7, 'Agent'), (35, 43, 'Hidden_object'), (44, 63, 'Hiding_place')], {})\n",
            "They hid the grave so that we could n't give the bodies a proper burial . ([(0, 4, 'Agent'), (9, 18, 'Hidden_object'), (19, 71, 'Purpose')], {'Hiding_place': 'INI'})\n",
            "But their ` disarmament policy \" mainly amounted to asking the warlords to hide their battlewagons and anti-aircraft guns in the bush . ([(59, 71, 'Agent'), (80, 121, 'Hidden_object'), (122, 133, 'Hiding_place')], {})\n",
            "It had been Mme Guérigny 's and Montaine 's intimacy with the creatures of the forest that had given them the idea of hiding their deserter in the cave . ([(125, 139, 'Hidden_object'), (140, 151, 'Hiding_place')], {'Agent': 'DNI'})\n",
            "Adam grabbed Billie and hid her behind the Audi , glad that he 'd chosen a four-wheel-drive Quattro . ([(0, 4, 'Agent'), (28, 31, 'Hidden_object'), (32, 47, 'Hiding_place')], {})\n"
          ]
        }
      ]
    },
    {
      "cell_type": "markdown",
      "metadata": {
        "id": "xThXDIdhRLHy"
      },
      "source": [
        "## Практическое задание"
      ]
    },
    {
      "cell_type": "markdown",
      "metadata": {
        "id": "GBWFOilERLHy"
      },
      "source": [
        "1. Найдите все ядерные элементы фрейма Removing.\n",
        "2. Найдите 5 примеров употребления лексемы take.v из фрейма Removing (с разметкой).\n",
        "3. Найдите все фреймы, в число ядерных (Core) элементов которых входит участник с ролью начальной точки перемещения (Source)."
      ]
    }
  ]
}